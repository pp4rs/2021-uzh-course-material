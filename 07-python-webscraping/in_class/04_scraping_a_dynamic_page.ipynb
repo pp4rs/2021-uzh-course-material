{
 "cells": [
  {
   "cell_type": "code",
   "execution_count": null,
   "source": [],
   "outputs": [],
   "metadata": {}
  },
  {
   "cell_type": "code",
   "execution_count": 1,
   "source": [
    "import requests"
   ],
   "outputs": [],
   "metadata": {}
  },
  {
   "cell_type": "code",
   "execution_count": 2,
   "source": [
    "response = requests.get(\"https://www.topuniversities.com/university-rankings/world-university-rankings/2022\")\n",
    "response.status_code"
   ],
   "outputs": [
    {
     "output_type": "execute_result",
     "data": {
      "text/plain": [
       "200"
      ]
     },
     "metadata": {},
     "execution_count": 2
    }
   ],
   "metadata": {}
  },
  {
   "cell_type": "code",
   "execution_count": 3,
   "source": [
    "response.content[:2000]"
   ],
   "outputs": [
    {
     "output_type": "execute_result",
     "data": {
      "text/plain": [
       "b'\\n<!DOCTYPE html>\\n<html lang=\"en\" dir=\"ltr\" prefix=\"content: http://purl.org/rss/1.0/modules/content/  dc: http://purl.org/dc/terms/  foaf: http://xmlns.com/foaf/0.1/  og: http://ogp.me/ns#  rdfs: http://www.w3.org/2000/01/rdf-schema#  schema: http://schema.org/  sioc: http://rdfs.org/sioc/ns#  sioct: http://rdfs.org/sioc/types#  skos: http://www.w3.org/2004/02/skos/core#  xsd: http://www.w3.org/2001/XMLSchema# \">\\n<head attr=\\'https://www.topuniversities.com/\\'>\\n<script>\\n    function setCookieTUTM(cname, cvalue, exdays) {\\n      const d = new Date();\\n      d.setTime(d.getTime() + (exdays*24*60*60*1000));\\n      let expires = \"expires=\"+ d.toUTCString();\\n      document.cookie = cname + \"=\" + cvalue + \";\" + expires + \";path=/\";\\n    }\\n    function getCookieTUTM(cname) {\\n      let name = cname + \"=\";\\n      let decodedCookie = decodeURIComponent(document.cookie);\\n      let ca = decodedCookie.split(\\';\\');\\n      for(let i = 0; i <ca.length; i++) {\\n        let c = ca[i];\\n        while (c.charAt(0) == \\' \\') {\\n          c = c.substring(1);\\n        }\\n        if (c.indexOf(name) == 0) {\\n          return c.substring(name.length, c.length);\\n        }\\n      }\\n      return \"\";\\n    }\\n    let UUID = \\'\\';\\n    if( getCookieTUTM(\"STYXKEY-globaluserUUID\") !== undefined &&  \\n      getCookieTUTM(\"STYXKEY-globaluserUUID\") !== null ){\\n       UUID =  getCookieTUTM(\"STYXKEY-globaluserUUID\");\\n    }else{\\n      let randomnos = Math.floor(Math.random() *  99999999);\\n      let currenttimestamp = new Date().getTime();\\n      UUID = `Top Universities-${currenttimestamp}-${randomnos}`;\\n      setCookieTUTM(\"STYXKEY-globaluserUUID\", UUID, 1);\\n    }\\n      dataLayer = [{\\n          \\'event\\': \\'UserStatus\\',\\n          \\'userID\\': UUID,\\n          \\'user_status\\': \\'loggedOut\\'\\n      }];\\n    </script>\\n<script>(function(w,d,s,l,i){w[l]=w[l]||[];w[l].push(\\n\\n  {\\'gtm.start\\': new Date().getTime(),event:\\'gtm.js\\'}\\n  );var f=d.getElementsByTagName(s)[0],\\n  j=d.createElement(s),dl=l!=\\'dataLayer\\'?\\'&l=\\'+l:\\'\\';j.async=true;j.src=\\n  \\'https:'"
      ]
     },
     "metadata": {},
     "execution_count": 3
    }
   ],
   "metadata": {}
  },
  {
   "cell_type": "code",
   "execution_count": 6,
   "source": [
    "import bs4\n",
    "soup = bs4.BeautifulSoup(response.content)"
   ],
   "outputs": [],
   "metadata": {}
  },
  {
   "cell_type": "code",
   "execution_count": 14,
   "source": [
    "data_div = soup.find(\"div\", id='ranking-fillters-div')"
   ],
   "outputs": [],
   "metadata": {}
  },
  {
   "cell_type": "code",
   "execution_count": 16,
   "source": [
    "data_div.find_all(\"div\", class_=\"_qs-ranking-data-row\")"
   ],
   "outputs": [
    {
     "output_type": "execute_result",
     "data": {
      "text/plain": [
       "[]"
      ]
     },
     "metadata": {},
     "execution_count": 16
    }
   ],
   "metadata": {}
  },
  {
   "cell_type": "code",
   "execution_count": 18,
   "source": [
    "with open(\"qs_rankings.html\", \"wb\") as file:\n",
    "    file.write(response.content)"
   ],
   "outputs": [],
   "metadata": {}
  },
  {
   "cell_type": "code",
   "execution_count": 34,
   "source": [
    "from selenium import webdriver"
   ],
   "outputs": [],
   "metadata": {}
  },
  {
   "cell_type": "code",
   "execution_count": 35,
   "source": [
    "import time"
   ],
   "outputs": [],
   "metadata": {}
  },
  {
   "cell_type": "code",
   "execution_count": 26,
   "source": [
    "browser = webdriver.Chrome()\n",
    "browser.set_window_size(1600, 900)"
   ],
   "outputs": [],
   "metadata": {}
  },
  {
   "cell_type": "code",
   "execution_count": 22,
   "source": [
    "type(browser)"
   ],
   "outputs": [
    {
     "output_type": "execute_result",
     "data": {
      "text/plain": [
       "selenium.webdriver.chrome.webdriver.WebDriver"
      ]
     },
     "metadata": {},
     "execution_count": 22
    }
   ],
   "metadata": {}
  },
  {
   "cell_type": "code",
   "execution_count": 36,
   "source": [
    "browser.get(\"https://www.topuniversities.com/university-rankings/world-university-rankings/2022\")\n",
    "time.sleep(5)\n"
   ],
   "outputs": [],
   "metadata": {}
  },
  {
   "cell_type": "code",
   "execution_count": 30,
   "source": [
    "soup = bs4.BeautifulSoup(browser.page_source)"
   ],
   "outputs": [],
   "metadata": {}
  },
  {
   "cell_type": "code",
   "execution_count": 37,
   "source": [
    "len(soup.find_all(\"div\", class_=\"_qs-ranking-data-row\"))"
   ],
   "outputs": [
    {
     "output_type": "execute_result",
     "data": {
      "text/plain": [
       "10"
      ]
     },
     "metadata": {},
     "execution_count": 37
    }
   ],
   "metadata": {}
  },
  {
   "cell_type": "code",
   "execution_count": 38,
   "source": [
    "rows = soup.find_all(\"div\", class_=\"_qs-ranking-data-row\")\n",
    "len(rows)"
   ],
   "outputs": [
    {
     "output_type": "execute_result",
     "data": {
      "text/plain": [
       "10"
      ]
     },
     "metadata": {},
     "execution_count": 38
    }
   ],
   "metadata": {}
  },
  {
   "cell_type": "code",
   "execution_count": 50,
   "source": [
    "def parse_page(soup):\n",
    "\n",
    "    rows = soup.find_all(\"div\", class_=\"_qs-ranking-data-row\")\n",
    "\n",
    "    data = []\n",
    "\n",
    "    for row in rows:\n",
    "        rank = row.find(\"div\", class_=\"_univ-rank\")\n",
    "        name = row.find(\"a\", class_=\"uni-link\")\n",
    "        score = row.find(\"span\", class_=\"overall-score-span\")\n",
    "\n",
    "        row_data = {\n",
    "            \"rank\": rank.text,\n",
    "            \"name\": name.text,\n",
    "            \"score\": score.text\n",
    "        }\n",
    "\n",
    "        data.append(row_data)\n",
    "\n",
    "    return pd.DataFrame(data)"
   ],
   "outputs": [],
   "metadata": {}
  },
  {
   "cell_type": "code",
   "execution_count": 51,
   "source": [
    "parse_page(soup)"
   ],
   "outputs": [
    {
     "output_type": "execute_result",
     "data": {
      "text/html": [
       "<div>\n",
       "<style scoped>\n",
       "    .dataframe tbody tr th:only-of-type {\n",
       "        vertical-align: middle;\n",
       "    }\n",
       "\n",
       "    .dataframe tbody tr th {\n",
       "        vertical-align: top;\n",
       "    }\n",
       "\n",
       "    .dataframe thead th {\n",
       "        text-align: right;\n",
       "    }\n",
       "</style>\n",
       "<table border=\"1\" class=\"dataframe\">\n",
       "  <thead>\n",
       "    <tr style=\"text-align: right;\">\n",
       "      <th></th>\n",
       "      <th>rank</th>\n",
       "      <th>name</th>\n",
       "      <th>score</th>\n",
       "    </tr>\n",
       "  </thead>\n",
       "  <tbody>\n",
       "    <tr>\n",
       "      <th>0</th>\n",
       "      <td>1</td>\n",
       "      <td>Massachusetts Institute of Technology (MIT)</td>\n",
       "      <td>100</td>\n",
       "    </tr>\n",
       "    <tr>\n",
       "      <th>1</th>\n",
       "      <td>2</td>\n",
       "      <td>University of Oxford</td>\n",
       "      <td>99.5</td>\n",
       "    </tr>\n",
       "    <tr>\n",
       "      <th>2</th>\n",
       "      <td>=3</td>\n",
       "      <td>Stanford University</td>\n",
       "      <td>98.7</td>\n",
       "    </tr>\n",
       "    <tr>\n",
       "      <th>3</th>\n",
       "      <td>=3</td>\n",
       "      <td>University of Cambridge</td>\n",
       "      <td>98.7</td>\n",
       "    </tr>\n",
       "    <tr>\n",
       "      <th>4</th>\n",
       "      <td>5</td>\n",
       "      <td>Harvard University</td>\n",
       "      <td>98</td>\n",
       "    </tr>\n",
       "    <tr>\n",
       "      <th>5</th>\n",
       "      <td>6</td>\n",
       "      <td>California Institute of Technology (Caltech)</td>\n",
       "      <td>97.4</td>\n",
       "    </tr>\n",
       "    <tr>\n",
       "      <th>6</th>\n",
       "      <td>7</td>\n",
       "      <td>Imperial College London</td>\n",
       "      <td>97.3</td>\n",
       "    </tr>\n",
       "    <tr>\n",
       "      <th>7</th>\n",
       "      <td>=8</td>\n",
       "      <td>ETH Zurich - Swiss Federal Institute of Techno...</td>\n",
       "      <td>95.4</td>\n",
       "    </tr>\n",
       "    <tr>\n",
       "      <th>8</th>\n",
       "      <td>=8</td>\n",
       "      <td>UCL</td>\n",
       "      <td>95.4</td>\n",
       "    </tr>\n",
       "    <tr>\n",
       "      <th>9</th>\n",
       "      <td>10</td>\n",
       "      <td>University of Chicago</td>\n",
       "      <td>94.5</td>\n",
       "    </tr>\n",
       "  </tbody>\n",
       "</table>\n",
       "</div>"
      ],
      "text/plain": [
       "  rank                                               name   score\n",
       "0    1       Massachusetts Institute of Technology (MIT)     100 \n",
       "1    2                               University of Oxford   99.5 \n",
       "2   =3                                Stanford University   98.7 \n",
       "3   =3                            University of Cambridge   98.7 \n",
       "4    5                                 Harvard University     98 \n",
       "5    6       California Institute of Technology (Caltech)   97.4 \n",
       "6    7                            Imperial College London   97.3 \n",
       "7   =8  ETH Zurich - Swiss Federal Institute of Techno...   95.4 \n",
       "8   =8                                                UCL   95.4 \n",
       "9   10                              University of Chicago   94.5 "
      ]
     },
     "metadata": {},
     "execution_count": 51
    }
   ],
   "metadata": {}
  },
  {
   "cell_type": "code",
   "execution_count": 76,
   "source": [
    "browser = webdriver.Chrome()\n",
    "browser.set_window_size(1600, 900)\n",
    "browser.get(\"https://www.topuniversities.com/university-rankings/world-university-rankings/2022\")\n",
    "time.sleep(5)"
   ],
   "outputs": [],
   "metadata": {}
  },
  {
   "cell_type": "code",
   "execution_count": 77,
   "source": [
    "gdpr_button = browser.find_element_by_css_selector(\"button.agree-button.eu-cookie-compliance-default-button\")\n",
    "gdpr_button.click()\n",
    "time.sleep(1)"
   ],
   "outputs": [],
   "metadata": {}
  },
  {
   "cell_type": "code",
   "execution_count": 79,
   "source": [
    "from selenium.common.exceptions import NoSuchElementException, ElementNotInteractableException\n",
    "\n",
    "try:\n",
    "    clear_button = browser.find_element_by_css_selector(\"div.no-ranking-results-found\") \\\n",
    "        .find_element_by_tag_name(\"a\")\n",
    "    clear_button.click()\n",
    "    time.sleep(1)\n",
    "except (NoSuchElementException, ElementNotInteractableException):\n",
    "    pass"
   ],
   "outputs": [],
   "metadata": {}
  },
  {
   "cell_type": "code",
   "execution_count": 80,
   "source": [
    "next_button = browser.find_element_by_css_selector(\"a.page-link.next\")\n",
    "next_button.click()"
   ],
   "outputs": [],
   "metadata": {}
  },
  {
   "cell_type": "code",
   "execution_count": null,
   "source": [],
   "outputs": [],
   "metadata": {}
  }
 ],
 "metadata": {
  "orig_nbformat": 4,
  "language_info": {
   "name": "python",
   "version": "3.9.7",
   "mimetype": "text/x-python",
   "codemirror_mode": {
    "name": "ipython",
    "version": 3
   },
   "pygments_lexer": "ipython3",
   "nbconvert_exporter": "python",
   "file_extension": ".py"
  },
  "kernelspec": {
   "name": "python3",
   "display_name": "Python 3.9.7 64-bit ('pp4rs': conda)"
  },
  "interpreter": {
   "hash": "b458573a6ccd86c70a026f7fa3606354449b41a3ed53268be7507e41f80e8f4d"
  }
 },
 "nbformat": 4,
 "nbformat_minor": 2
}