{
 "cells": [
  {
   "cell_type": "code",
   "execution_count": 1,
   "source": [
    "import requests"
   ],
   "outputs": [],
   "metadata": {}
  },
  {
   "cell_type": "code",
   "execution_count": 2,
   "source": [
    "response = requests.get(\"https://www.unisg.ch/en/universitaet/schools/economics-and-political-science/ueber-seps/volkswirtschaftliches-departement/dozierende\")\n",
    "response.status_code"
   ],
   "outputs": [
    {
     "output_type": "execute_result",
     "data": {
      "text/plain": [
       "200"
      ]
     },
     "metadata": {},
     "execution_count": 2
    }
   ],
   "metadata": {}
  },
  {
   "cell_type": "code",
   "execution_count": 4,
   "source": [
    "response.content[:2000]"
   ],
   "outputs": [
    {
     "output_type": "execute_result",
     "data": {
      "text/plain": [
       "b'\\r\\n<!DOCTYPE html>\\r\\n<!--[if IE 8]><html class=\"no-js ie ie-8\" lang=\"en\" prefix=\"og: http://ogp.me/ns#\"><![endif]-->\\r\\n<!--[if IE 9]><html class=\"no-js ie ie-9\" lang=\"en\" prefix=\"og: http://ogp.me/ns#\"><![endif]-->\\r\\n<!--[if gt IE 9]><!--><html class=\"no-js\" lang=\"en\"  prefix=\"og: http://ogp.me/ns#\"><!--<![endif]-->\\r\\n    <head>\\r\\n        \\r\\n\\r\\n<meta charset=\"utf-8\">\\r\\n<meta http-equiv=\"X-UA-Compatible\" content=\"IE=edge\">\\r\\n\\r\\n<meta name=\"viewport\" content=\"width=device-width, initial-scale=1.0, maximum-scale=1.0, user-scalable=no\">\\r\\n\\r\\n<!-- Manifest -->\\r\\n<link rel=\"manifest\" href=\"/manifest.json\">\\r\\n\\r\\n<!-- Fallback to homescreen for Chrome <39 on Android -->\\r\\n<meta name=\"mobile-web-app-capable\" content=\"yes\">\\r\\n<meta name=\"application-name\" content=\"Faculty | University | University of St.Gallen\">\\r\\n\\r\\n<link rel=\"apple-touch-icon\" href=\"/assets/img/icon/apple-touch-icon-precomposed.png\">\\r\\n<link rel=\"apple-touch-icon\" sizes=\"57x57\" href=\"/apple-touch-icon-57x57.png\">\\r\\n<link rel=\"apple-touch-icon\" sizes=\"60x60\" href=\"/apple-touch-icon-60x60.png\">\\r\\n<link rel=\"apple-touch-icon\" sizes=\"72x72\" href=\"/apple-touch-icon-72x72.png\">\\r\\n<link rel=\"apple-touch-icon\" sizes=\"76x76\" href=\"/apple-touch-icon-76x76.png\">\\r\\n<link rel=\"apple-touch-icon\" sizes=\"114x114\" href=\"/apple-touch-icon-114x114.png\">\\r\\n<link rel=\"apple-touch-icon\" sizes=\"120x120\" href=\"/apple-touch-icon-120x120.png\">\\r\\n<link rel=\"apple-touch-icon\" sizes=\"144x144\" href=\"/apple-touch-icon-144x144.png\">\\r\\n<link rel=\"apple-touch-icon\" sizes=\"152x152\" href=\"/apple-touch-icon-152x152.png\">\\r\\n<link rel=\"apple-touch-icon\" sizes=\"180x180\" href=\"/apple-touch-icon-180x180.png\">\\r\\n<link rel=\"icon\" type=\"image/png\" href=\"/favicon-16x16.png\" sizes=\"16x16\">\\r\\n<link rel=\"icon\" type=\"image/png\" href=\"/favicon-32x32.png\" sizes=\"32x32\">\\r\\n<link rel=\"icon\" type=\"image/png\" href=\"/favicon-48x48.png\" sizes=\"48x48\">\\r\\n<link rel=\"icon\" type=\"image/png\" href=\"/favicon-96x96.png\" sizes=\"96x96\">\\r\\n<link rel=\"icon\" type=\"image/png\" href=\"/assets/img/icon/android-chro'"
      ]
     },
     "metadata": {},
     "execution_count": 4
    }
   ],
   "metadata": {}
  },
  {
   "cell_type": "code",
   "execution_count": 5,
   "source": [
    "# BeautifulSoup4\n",
    "import bs4"
   ],
   "outputs": [],
   "metadata": {}
  },
  {
   "cell_type": "code",
   "execution_count": 6,
   "source": [
    "soup = bs4.BeautifulSoup(response.content)\n",
    "type(soup)"
   ],
   "outputs": [
    {
     "output_type": "execute_result",
     "data": {
      "text/plain": [
       "bs4.BeautifulSoup"
      ]
     },
     "metadata": {},
     "execution_count": 6
    }
   ],
   "metadata": {}
  },
  {
   "cell_type": "code",
   "execution_count": 13,
   "source": [
    "tag = soup.find(\"span\", class_=\"e-person-academic\")\n",
    "type(tag)"
   ],
   "outputs": [
    {
     "output_type": "execute_result",
     "data": {
      "text/plain": [
       "bs4.element.Tag"
      ]
     },
     "metadata": {},
     "execution_count": 13
    }
   ],
   "metadata": {}
  },
  {
   "cell_type": "code",
   "execution_count": 15,
   "source": [
    "tag"
   ],
   "outputs": [
    {
     "output_type": "execute_result",
     "data": {
      "text/plain": [
       "<span class=\"e-person-academic\">Prof. Ph.D.</span>"
      ]
     },
     "metadata": {},
     "execution_count": 15
    }
   ],
   "metadata": {}
  },
  {
   "cell_type": "code",
   "execution_count": 18,
   "source": [
    "tag.text"
   ],
   "outputs": [
    {
     "output_type": "execute_result",
     "data": {
      "text/plain": [
       "'Prof. Ph.D.'"
      ]
     },
     "metadata": {},
     "execution_count": 18
    }
   ],
   "metadata": {}
  },
  {
   "cell_type": "code",
   "execution_count": 23,
   "source": [
    "person_boxes = soup.find_all(\"div\", class_=\"e-person-content\")\n",
    "len(person_boxes)"
   ],
   "outputs": [
    {
     "output_type": "execute_result",
     "data": {
      "text/plain": [
       "12"
      ]
     },
     "metadata": {},
     "execution_count": 23
    }
   ],
   "metadata": {}
  },
  {
   "cell_type": "code",
   "execution_count": 48,
   "source": [
    "data = []\n",
    "for box in person_boxes:\n",
    "\n",
    "    name = box.find(\"h3\").text\n",
    "    title = box.find(\"span\", class_=\"e-person-academic\").text\n",
    "    role = box.find(\"div\", class_=\"e-person-role\").text\n",
    "    link = box.find(\"div\", class_=\"e-person-title\").find(\"a\")\n",
    "    \n",
    "    my_dict = {\n",
    "        \"name\": name,\n",
    "        \"title\": title,\n",
    "        \"role\": role.strip(),\n",
    "        \"link\": link[\"href\"]\n",
    "    }\n",
    "    data.append(my_dict)"
   ],
   "outputs": [],
   "metadata": {}
  },
  {
   "cell_type": "code",
   "execution_count": 51,
   "source": [
    "import pandas as pd\n",
    "pd.DataFrame(data)"
   ],
   "outputs": [
    {
     "output_type": "execute_result",
     "data": {
      "text/html": [
       "<div>\n",
       "<style scoped>\n",
       "    .dataframe tbody tr th:only-of-type {\n",
       "        vertical-align: middle;\n",
       "    }\n",
       "\n",
       "    .dataframe tbody tr th {\n",
       "        vertical-align: top;\n",
       "    }\n",
       "\n",
       "    .dataframe thead th {\n",
       "        text-align: right;\n",
       "    }\n",
       "</style>\n",
       "<table border=\"1\" class=\"dataframe\">\n",
       "  <thead>\n",
       "    <tr style=\"text-align: right;\">\n",
       "      <th></th>\n",
       "      <th>name</th>\n",
       "      <th>title</th>\n",
       "      <th>role</th>\n",
       "      <th>link</th>\n",
       "    </tr>\n",
       "  </thead>\n",
       "  <tbody>\n",
       "    <tr>\n",
       "      <th>0</th>\n",
       "      <td>Francesco Audrino</td>\n",
       "      <td>Prof. Ph.D.</td>\n",
       "      <td>Full Professor of Statistics</td>\n",
       "      <td>https://www.unisg.ch/en/personenverzeichnis/44...</td>\n",
       "    </tr>\n",
       "    <tr>\n",
       "      <th>1</th>\n",
       "      <td>Johannes Binswanger</td>\n",
       "      <td>Prof. Dr.</td>\n",
       "      <td>Full Professor of Business Economics and Publi...</td>\n",
       "      <td>https://www.unisg.ch/en/personenverzeichnis/22...</td>\n",
       "    </tr>\n",
       "    <tr>\n",
       "      <th>2</th>\n",
       "      <td>Petyo Bonev</td>\n",
       "      <td>Prof. Ph.D.</td>\n",
       "      <td>Assistant Professor of Economics</td>\n",
       "      <td>https://www.unisg.ch/en/personenverzeichnis/4a...</td>\n",
       "    </tr>\n",
       "    <tr>\n",
       "      <th>3</th>\n",
       "      <td>Timo Boppart</td>\n",
       "      <td>Prof. PhD</td>\n",
       "      <td>Full Professor for International Economics</td>\n",
       "      <td>https://www.unisg.ch/en/personenverzeichnis/fb...</td>\n",
       "    </tr>\n",
       "    <tr>\n",
       "      <th>4</th>\n",
       "      <td>Stefan Bühler</td>\n",
       "      <td>Prof. Dr.</td>\n",
       "      <td>Full Professor of Applied Microeconomics</td>\n",
       "      <td>https://www.unisg.ch/en/personenverzeichnis/62...</td>\n",
       "    </tr>\n",
       "    <tr>\n",
       "      <th>5</th>\n",
       "      <td>Guido Cozzi</td>\n",
       "      <td>Prof. PhD</td>\n",
       "      <td>Full Professor of Macroeconomics</td>\n",
       "      <td>https://www.unisg.ch/en/personenverzeichnis/79...</td>\n",
       "    </tr>\n",
       "    <tr>\n",
       "      <th>6</th>\n",
       "      <td>Enrico Giovanni De Giorgi</td>\n",
       "      <td>Prof. Ph.D.</td>\n",
       "      <td>Full Professor of Mathematics</td>\n",
       "      <td>https://www.unisg.ch/en/personenverzeichnis/9c...</td>\n",
       "    </tr>\n",
       "    <tr>\n",
       "      <th>7</th>\n",
       "      <td>Beatrix Eugster</td>\n",
       "      <td>Prof. PhD</td>\n",
       "      <td>Assistant Professor (Tenure Track) of Disabili...</td>\n",
       "      <td>https://www.unisg.ch/en/personenverzeichnis/de...</td>\n",
       "    </tr>\n",
       "    <tr>\n",
       "      <th>8</th>\n",
       "      <td>Simon Evenett</td>\n",
       "      <td>Prof. PhD</td>\n",
       "      <td>Full Professor of Foreign Trade and Development</td>\n",
       "      <td>https://www.unisg.ch/en/personenverzeichnis/7c...</td>\n",
       "    </tr>\n",
       "    <tr>\n",
       "      <th>9</th>\n",
       "      <td>Matthias Reginald Fengler</td>\n",
       "      <td>Prof. Dr.</td>\n",
       "      <td>Full Professor of Econometrics with special fo...</td>\n",
       "      <td>https://www.unisg.ch/en/personenverzeichnis/69...</td>\n",
       "    </tr>\n",
       "    <tr>\n",
       "      <th>10</th>\n",
       "      <td>Reto Föllmi</td>\n",
       "      <td>Prof. Dr.</td>\n",
       "      <td>Full Professor of International Economics</td>\n",
       "      <td>https://www.unisg.ch/en/personenverzeichnis/04...</td>\n",
       "    </tr>\n",
       "    <tr>\n",
       "      <th>11</th>\n",
       "      <td>Dennis Gärtner</td>\n",
       "      <td>Prof. Dr.</td>\n",
       "      <td>Full Professor of Economics</td>\n",
       "      <td>https://www.unisg.ch/en/personenverzeichnis/fa...</td>\n",
       "    </tr>\n",
       "  </tbody>\n",
       "</table>\n",
       "</div>"
      ],
      "text/plain": [
       "                         name        title  \\\n",
       "0           Francesco Audrino  Prof. Ph.D.   \n",
       "1         Johannes Binswanger    Prof. Dr.   \n",
       "2                 Petyo Bonev  Prof. Ph.D.   \n",
       "3                Timo Boppart    Prof. PhD   \n",
       "4               Stefan Bühler    Prof. Dr.   \n",
       "5                 Guido Cozzi    Prof. PhD   \n",
       "6   Enrico Giovanni De Giorgi  Prof. Ph.D.   \n",
       "7             Beatrix Eugster    Prof. PhD   \n",
       "8               Simon Evenett    Prof. PhD   \n",
       "9   Matthias Reginald Fengler    Prof. Dr.   \n",
       "10                Reto Föllmi    Prof. Dr.   \n",
       "11             Dennis Gärtner    Prof. Dr.   \n",
       "\n",
       "                                                 role  \\\n",
       "0                        Full Professor of Statistics   \n",
       "1   Full Professor of Business Economics and Publi...   \n",
       "2                    Assistant Professor of Economics   \n",
       "3          Full Professor for International Economics   \n",
       "4            Full Professor of Applied Microeconomics   \n",
       "5                    Full Professor of Macroeconomics   \n",
       "6                       Full Professor of Mathematics   \n",
       "7   Assistant Professor (Tenure Track) of Disabili...   \n",
       "8     Full Professor of Foreign Trade and Development   \n",
       "9   Full Professor of Econometrics with special fo...   \n",
       "10          Full Professor of International Economics   \n",
       "11                        Full Professor of Economics   \n",
       "\n",
       "                                                 link  \n",
       "0   https://www.unisg.ch/en/personenverzeichnis/44...  \n",
       "1   https://www.unisg.ch/en/personenverzeichnis/22...  \n",
       "2   https://www.unisg.ch/en/personenverzeichnis/4a...  \n",
       "3   https://www.unisg.ch/en/personenverzeichnis/fb...  \n",
       "4   https://www.unisg.ch/en/personenverzeichnis/62...  \n",
       "5   https://www.unisg.ch/en/personenverzeichnis/79...  \n",
       "6   https://www.unisg.ch/en/personenverzeichnis/9c...  \n",
       "7   https://www.unisg.ch/en/personenverzeichnis/de...  \n",
       "8   https://www.unisg.ch/en/personenverzeichnis/7c...  \n",
       "9   https://www.unisg.ch/en/personenverzeichnis/69...  \n",
       "10  https://www.unisg.ch/en/personenverzeichnis/04...  \n",
       "11  https://www.unisg.ch/en/personenverzeichnis/fa...  "
      ]
     },
     "metadata": {},
     "execution_count": 51
    }
   ],
   "metadata": {}
  },
  {
   "cell_type": "code",
   "execution_count": 55,
   "source": [
    "def get_people_info(url):\n",
    "    \"\"\"documentation\"\"\"\n",
    "\n",
    "    response = requests.get(url)\n",
    "    response.raise_for_status()\n",
    "\n",
    "    soup = bs4.BeautifulSoup(response.content)\n",
    "    person_boxes = soup.find_all(\"div\", class_=\"e-person-content\")\n",
    "\n",
    "    data = []\n",
    "    for box in person_boxes:\n",
    "\n",
    "        name = box.find(\"h3\").text\n",
    "        title = box.find(\"span\", class_=\"e-person-academic\").text\n",
    "        role = box.find(\"div\", class_=\"e-person-role\").text\n",
    "        link = box.find(\"div\", class_=\"e-person-title\").find(\"a\")\n",
    "\n",
    "        my_dict = {\n",
    "            \"name\": name,\n",
    "            \"title\": title,\n",
    "            \"role\": role.strip(),\n",
    "            \"link\": link[\"href\"]\n",
    "        }\n",
    "        data.append(my_dict)\n",
    "    \n",
    "    return data\n",
    "\n"
   ],
   "outputs": [],
   "metadata": {}
  },
  {
   "cell_type": "code",
   "execution_count": 57,
   "source": [
    "links = [\n",
    "    \"https://www.unisg.ch/en/universitaet/schools/economics-and-political-science/ueber-seps/volkswirtschaftliches-departement/dozierende?current=1\",\n",
    "    \"https://www.unisg.ch/en/universitaet/schools/economics-and-political-science/ueber-seps/volkswirtschaftliches-departement/dozierende?current=2\",\n",
    "    \"https://www.unisg.ch/en/universitaet/schools/economics-and-political-science/ueber-seps/volkswirtschaftliches-departement/dozierende?current=3\"\n",
    "]"
   ],
   "outputs": [],
   "metadata": {}
  },
  {
   "cell_type": "code",
   "execution_count": 58,
   "source": [
    "import time"
   ],
   "outputs": [],
   "metadata": {}
  },
  {
   "cell_type": "code",
   "execution_count": 59,
   "source": [
    "all_data = []\n",
    "for link in links:\n",
    "    data = get_people_info(link)\n",
    "    all_data += data\n",
    "    time.sleep(5)\n",
    "\n",
    "df = pd.DataFrame(all_data)"
   ],
   "outputs": [],
   "metadata": {}
  },
  {
   "cell_type": "code",
   "execution_count": 60,
   "source": [
    "df.tail()"
   ],
   "outputs": [
    {
     "output_type": "execute_result",
     "data": {
      "text/html": [
       "<div>\n",
       "<style scoped>\n",
       "    .dataframe tbody tr th:only-of-type {\n",
       "        vertical-align: middle;\n",
       "    }\n",
       "\n",
       "    .dataframe tbody tr th {\n",
       "        vertical-align: top;\n",
       "    }\n",
       "\n",
       "    .dataframe thead th {\n",
       "        text-align: right;\n",
       "    }\n",
       "</style>\n",
       "<table border=\"1\" class=\"dataframe\">\n",
       "  <thead>\n",
       "    <tr style=\"text-align: right;\">\n",
       "      <th></th>\n",
       "      <th>name</th>\n",
       "      <th>title</th>\n",
       "      <th>role</th>\n",
       "      <th>link</th>\n",
       "    </tr>\n",
       "  </thead>\n",
       "  <tbody>\n",
       "    <tr>\n",
       "      <th>24</th>\n",
       "      <td>David Preinerstorfer</td>\n",
       "      <td>Prof. PhD</td>\n",
       "      <td>Associate Professor of Econometrics</td>\n",
       "      <td>https://www.unisg.ch/en/personenverzeichnis/42...</td>\n",
       "    </tr>\n",
       "    <tr>\n",
       "      <th>25</th>\n",
       "      <td>Dominik Sachs</td>\n",
       "      <td>Prof. Dr.</td>\n",
       "      <td>Professor of Macroeconomics and Public Finance</td>\n",
       "      <td>https://www.unisg.ch/en/personenverzeichnis/e2...</td>\n",
       "    </tr>\n",
       "    <tr>\n",
       "      <th>26</th>\n",
       "      <td>Arnau Valladares-Esteban</td>\n",
       "      <td>Prof. Ph.D.</td>\n",
       "      <td>Assistant Professor of Economics</td>\n",
       "      <td>https://www.unisg.ch/en/personenverzeichnis/c1...</td>\n",
       "    </tr>\n",
       "    <tr>\n",
       "      <th>27</th>\n",
       "      <td>Martin Wolf</td>\n",
       "      <td>Prof. Dr.</td>\n",
       "      <td>Assistant Professor for Monetary Economics</td>\n",
       "      <td>https://www.unisg.ch/en/personenverzeichnis/98...</td>\n",
       "    </tr>\n",
       "    <tr>\n",
       "      <th>28</th>\n",
       "      <td>Philipp Zahn</td>\n",
       "      <td>Prof. Dr.</td>\n",
       "      <td>Assistant Professor for Economics</td>\n",
       "      <td>https://www.unisg.ch/en/personenverzeichnis/a2...</td>\n",
       "    </tr>\n",
       "  </tbody>\n",
       "</table>\n",
       "</div>"
      ],
      "text/plain": [
       "                        name        title  \\\n",
       "24      David Preinerstorfer    Prof. PhD   \n",
       "25             Dominik Sachs    Prof. Dr.   \n",
       "26  Arnau Valladares-Esteban  Prof. Ph.D.   \n",
       "27               Martin Wolf    Prof. Dr.   \n",
       "28              Philipp Zahn    Prof. Dr.   \n",
       "\n",
       "                                              role  \\\n",
       "24             Associate Professor of Econometrics   \n",
       "25  Professor of Macroeconomics and Public Finance   \n",
       "26                Assistant Professor of Economics   \n",
       "27      Assistant Professor for Monetary Economics   \n",
       "28               Assistant Professor for Economics   \n",
       "\n",
       "                                                 link  \n",
       "24  https://www.unisg.ch/en/personenverzeichnis/42...  \n",
       "25  https://www.unisg.ch/en/personenverzeichnis/e2...  \n",
       "26  https://www.unisg.ch/en/personenverzeichnis/c1...  \n",
       "27  https://www.unisg.ch/en/personenverzeichnis/98...  \n",
       "28  https://www.unisg.ch/en/personenverzeichnis/a2...  "
      ]
     },
     "metadata": {},
     "execution_count": 60
    }
   ],
   "metadata": {}
  },
  {
   "cell_type": "code",
   "execution_count": null,
   "source": [],
   "outputs": [],
   "metadata": {}
  }
 ],
 "metadata": {
  "orig_nbformat": 4,
  "language_info": {
   "name": "python",
   "version": "3.9.7",
   "mimetype": "text/x-python",
   "codemirror_mode": {
    "name": "ipython",
    "version": 3
   },
   "pygments_lexer": "ipython3",
   "nbconvert_exporter": "python",
   "file_extension": ".py"
  },
  "kernelspec": {
   "name": "python3",
   "display_name": "Python 3.9  ('pp4rs': conda)"
  },
  "interpreter": {
   "hash": "b458573a6ccd86c70a026f7fa3606354449b41a3ed53268be7507e41f80e8f4d"
  }
 },
 "nbformat": 4,
 "nbformat_minor": 2
}