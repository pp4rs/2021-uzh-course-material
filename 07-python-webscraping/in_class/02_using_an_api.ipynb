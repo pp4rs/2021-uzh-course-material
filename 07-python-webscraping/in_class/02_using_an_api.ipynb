{
 "cells": [
  {
   "cell_type": "code",
   "execution_count": 1,
   "source": [
    "import requests"
   ],
   "outputs": [],
   "metadata": {}
  },
  {
   "cell_type": "code",
   "execution_count": 34,
   "source": [
    "endpoint = \"https://ll.thespacedevs.com/2.2.0/launch/previous/\"\n",
    "params = {\n",
    "    \"format\": \"json\",\n",
    "    \"limit\": 50\n",
    "}"
   ],
   "outputs": [],
   "metadata": {}
  },
  {
   "cell_type": "code",
   "execution_count": 35,
   "source": [
    "response = requests.get(endpoint, params=params)\n",
    "response.status_code"
   ],
   "outputs": [
    {
     "output_type": "execute_result",
     "data": {
      "text/plain": [
       "200"
      ]
     },
     "metadata": {},
     "execution_count": 35
    }
   ],
   "metadata": {}
  },
  {
   "cell_type": "code",
   "execution_count": 5,
   "source": [
    "response.url"
   ],
   "outputs": [
    {
     "output_type": "execute_result",
     "data": {
      "text/plain": [
       "'https://ll.thespacedevs.com/2.2.0/launch/?format=json&limit=50'"
      ]
     },
     "metadata": {},
     "execution_count": 5
    }
   ],
   "metadata": {}
  },
  {
   "cell_type": "code",
   "execution_count": 10,
   "source": [
    "url = f\"https://ll.thespacedevs.com/2.2.0/launch/?format={params['format']}&limit={params['limit']}\"\n",
    "print(url)"
   ],
   "outputs": [
    {
     "output_type": "stream",
     "name": "stdout",
     "text": [
      "https://ll.thespacedevs.com/2.2.0/launch/?format={params['format']}&limit={params['limit']}\n"
     ]
    }
   ],
   "metadata": {}
  },
  {
   "cell_type": "code",
   "execution_count": 9,
   "source": [
    "response_alt = requests.get(url)\n",
    "response_alt.status_code"
   ],
   "outputs": [
    {
     "output_type": "execute_result",
     "data": {
      "text/plain": [
       "200"
      ]
     },
     "metadata": {},
     "execution_count": 9
    }
   ],
   "metadata": {}
  },
  {
   "cell_type": "code",
   "execution_count": 12,
   "source": [
    "response.status_code"
   ],
   "outputs": [
    {
     "output_type": "execute_result",
     "data": {
      "text/plain": [
       "200"
      ]
     },
     "metadata": {},
     "execution_count": 12
    }
   ],
   "metadata": {}
  },
  {
   "cell_type": "code",
   "execution_count": 14,
   "source": [
    "response.content[:2000]"
   ],
   "outputs": [
    {
     "output_type": "execute_result",
     "data": {
      "text/plain": [
       "b'{\"count\":6472,\"next\":\"https://ll.thespacedevs.com/2.2.0/launch/?format=json&limit=50&offset=50\",\"previous\":null,\"results\":[{\"id\":\"e3df2ecd-c239-472f-95e4-2b89b4f75800\",\"url\":\"https://ll.thespacedevs.com/2.2.0/launch/e3df2ecd-c239-472f-95e4-2b89b4f75800/?format=json\",\"slug\":\"sputnik-8k74ps-sputnik-1\",\"name\":\"Sputnik 8K74PS | Sputnik 1\",\"status\":{\"id\":3,\"name\":\"Launch Successful\",\"abbrev\":\"Success\",\"description\":\"The launch vehicle successfully inserted its payload(s) into the target orbit(s).\"},\"last_updated\":\"2021-08-31T20:43:53Z\",\"net\":\"1957-10-04T19:28:34Z\",\"window_end\":\"1957-10-04T19:28:34Z\",\"window_start\":\"1957-10-04T19:28:34Z\",\"probability\":null,\"holdreason\":null,\"failreason\":null,\"hashtag\":null,\"launch_service_provider\":{\"id\":66,\"url\":\"https://ll.thespacedevs.com/2.2.0/agencies/66/?format=json\",\"name\":\"Soviet Space Program\",\"type\":\"Government\"},\"rocket\":{\"id\":3003,\"configuration\":{\"id\":468,\"url\":\"https://ll.thespacedevs.com/2.2.0/config/launcher/468/?format=json\",\"name\":\"Sputnik 8K74PS\",\"family\":\"Sputnik\",\"full_name\":\"Sputnik 8K74PS\",\"variant\":\"8K74PS\"}},\"mission\":{\"id\":1430,\"name\":\"Sputnik 1\",\"description\":\"First artificial satellite consisting of a 58 cm pressurized aluminium shell containing two 1 W transmitters for a total mass of 83.6 kg.\",\"launch_designator\":null,\"type\":\"Test Flight\",\"orbit\":{\"id\":8,\"name\":\"Low Earth Orbit\",\"abbrev\":\"LEO\"}},\"pad\":{\"id\":32,\"url\":\"https://ll.thespacedevs.com/2.2.0/pad/32/?format=json\",\"agency_id\":null,\"name\":\"1/5\",\"info_url\":null,\"wiki_url\":\"\",\"map_url\":\"https://www.google.com/maps/place/45\\xc3\\x82\\xc2\\xb055\\'12.0\\\\\"N+63\\xc3\\x82\\xc2\\xb020\\'31.2\\\\\"E\",\"latitude\":\"45.92\",\"longitude\":\"63.342\",\"location\":{\"id\":15,\"url\":\"https://ll.thespacedevs.com/2.2.0/location/15/?format=json\",\"name\":\"Baikonur Cosmodrome, Republic of Kazakhstan\",\"country_code\":\"KAZ\",\"map_image\":\"https://spacelaunchnow-prod-east.nyc3.digitaloceanspaces.com/media/launch_images/location_15_20200803142517.jpg\",\"total_launch_count\":1522,\"total_landing_count\":0},\"map_image\":\"https://spacelaun'"
      ]
     },
     "metadata": {},
     "execution_count": 14
    }
   ],
   "metadata": {}
  },
  {
   "cell_type": "code",
   "execution_count": 36,
   "source": [
    "data = response.json()"
   ],
   "outputs": [],
   "metadata": {}
  },
  {
   "cell_type": "code",
   "execution_count": 51,
   "source": [
    "import time"
   ],
   "outputs": [],
   "metadata": {}
  },
  {
   "cell_type": "code",
   "execution_count": 52,
   "source": [
    "time.sleep(2)"
   ],
   "outputs": [],
   "metadata": {}
  },
  {
   "cell_type": "code",
   "execution_count": null,
   "source": [
    "for offset in range(0, 6289, 100):\n",
    "    params = {\n",
    "        \"format\": \"json\",\n",
    "        \"limit\": 100,\n",
    "        \"offset\": offset\n",
    "    }\n",
    "    requests.get(endpoint, params=params)\n",
    "    time.sleep(5)"
   ],
   "outputs": [],
   "metadata": {}
  },
  {
   "cell_type": "code",
   "execution_count": 53,
   "source": [
    "# next_url = data[\"next\"]\n",
    "# while next_url is not None:\n"
   ],
   "outputs": [],
   "metadata": {}
  },
  {
   "cell_type": "code",
   "execution_count": 40,
   "source": [
    "result = data[\"results\"]\n",
    "type(result)"
   ],
   "outputs": [
    {
     "output_type": "execute_result",
     "data": {
      "text/plain": [
       "list"
      ]
     },
     "metadata": {},
     "execution_count": 40
    }
   ],
   "metadata": {}
  },
  {
   "cell_type": "code",
   "execution_count": 41,
   "source": [
    "import pandas as pd"
   ],
   "outputs": [],
   "metadata": {}
  },
  {
   "cell_type": "code",
   "execution_count": 42,
   "source": [
    "df = pd.DataFrame(result)\n",
    "df.head()"
   ],
   "outputs": [
    {
     "output_type": "execute_result",
     "data": {
      "text/html": [
       "<div>\n",
       "<style scoped>\n",
       "    .dataframe tbody tr th:only-of-type {\n",
       "        vertical-align: middle;\n",
       "    }\n",
       "\n",
       "    .dataframe tbody tr th {\n",
       "        vertical-align: top;\n",
       "    }\n",
       "\n",
       "    .dataframe thead th {\n",
       "        text-align: right;\n",
       "    }\n",
       "</style>\n",
       "<table border=\"1\" class=\"dataframe\">\n",
       "  <thead>\n",
       "    <tr style=\"text-align: right;\">\n",
       "      <th></th>\n",
       "      <th>id</th>\n",
       "      <th>url</th>\n",
       "      <th>slug</th>\n",
       "      <th>name</th>\n",
       "      <th>status</th>\n",
       "      <th>last_updated</th>\n",
       "      <th>net</th>\n",
       "      <th>window_end</th>\n",
       "      <th>window_start</th>\n",
       "      <th>probability</th>\n",
       "      <th>...</th>\n",
       "      <th>failreason</th>\n",
       "      <th>hashtag</th>\n",
       "      <th>launch_service_provider</th>\n",
       "      <th>rocket</th>\n",
       "      <th>mission</th>\n",
       "      <th>pad</th>\n",
       "      <th>webcast_live</th>\n",
       "      <th>image</th>\n",
       "      <th>infographic</th>\n",
       "      <th>program</th>\n",
       "    </tr>\n",
       "  </thead>\n",
       "  <tbody>\n",
       "    <tr>\n",
       "      <th>0</th>\n",
       "      <td>343e4980-cefc-42ac-bb58-f9441f27d6d8</td>\n",
       "      <td>https://ll.thespacedevs.com/2.2.0/launch/343e4...</td>\n",
       "      <td>long-march-4c-gaofen-5-02</td>\n",
       "      <td>Long March 4C | Gaofen-5-02</td>\n",
       "      <td>{'id': 3, 'name': 'Launch Successful', 'abbrev...</td>\n",
       "      <td>2021-09-07T03:48:11Z</td>\n",
       "      <td>2021-09-07T03:01:00Z</td>\n",
       "      <td>2021-09-07T03:56:00Z</td>\n",
       "      <td>2021-09-07T02:35:00Z</td>\n",
       "      <td>NaN</td>\n",
       "      <td>...</td>\n",
       "      <td></td>\n",
       "      <td>None</td>\n",
       "      <td>{'id': 88, 'url': 'https://ll.thespacedevs.com...</td>\n",
       "      <td>{'id': 2964, 'configuration': {'id': 64, 'url'...</td>\n",
       "      <td>{'id': 1386, 'name': 'Gaofen-5-02', 'descripti...</td>\n",
       "      <td>{'id': 25, 'url': 'https://ll.thespacedevs.com...</td>\n",
       "      <td>False</td>\n",
       "      <td>https://spacelaunchnow-prod-east.nyc3.digitalo...</td>\n",
       "      <td>None</td>\n",
       "      <td>[]</td>\n",
       "    </tr>\n",
       "    <tr>\n",
       "      <th>1</th>\n",
       "      <td>bb2a5291-0aef-4c2a-8e29-93362d256fea</td>\n",
       "      <td>https://ll.thespacedevs.com/2.2.0/launch/bb2a5...</td>\n",
       "      <td>firefly-alpha-maiden-flight</td>\n",
       "      <td>Firefly Alpha | Maiden Flight</td>\n",
       "      <td>{'id': 4, 'name': 'Launch Failure', 'abbrev': ...</td>\n",
       "      <td>2021-09-05T19:20:28Z</td>\n",
       "      <td>2021-09-03T01:59:00Z</td>\n",
       "      <td>2021-09-03T05:00:00Z</td>\n",
       "      <td>2021-09-03T01:00:00Z</td>\n",
       "      <td>100.0</td>\n",
       "      <td>...</td>\n",
       "      <td>The launch vehicle was destroyed after reachin...</td>\n",
       "      <td>None</td>\n",
       "      <td>{'id': 265, 'url': 'https://ll.thespacedevs.co...</td>\n",
       "      <td>{'id': 2210, 'configuration': {'id': 179, 'url...</td>\n",
       "      <td>{'id': 966, 'name': 'Maiden Flight', 'descript...</td>\n",
       "      <td>{'id': 39, 'url': 'https://ll.thespacedevs.com...</td>\n",
       "      <td>True</td>\n",
       "      <td>https://spacelaunchnow-prod-east.nyc3.digitalo...</td>\n",
       "      <td>None</td>\n",
       "      <td>[]</td>\n",
       "    </tr>\n",
       "    <tr>\n",
       "      <th>2</th>\n",
       "      <td>13386512-85bb-4c93-a9b0-f5eac05fbe4f</td>\n",
       "      <td>https://ll.thespacedevs.com/2.2.0/launch/13386...</td>\n",
       "      <td>falcon-9-block-5-dragon-crs-2-spx-23</td>\n",
       "      <td>Falcon 9 Block 5 | Dragon CRS-2 SpX-23</td>\n",
       "      <td>{'id': 3, 'name': 'Launch Successful', 'abbrev...</td>\n",
       "      <td>2021-09-09T06:59:10Z</td>\n",
       "      <td>2021-08-29T07:14:49Z</td>\n",
       "      <td>2021-08-29T07:14:49Z</td>\n",
       "      <td>2021-08-29T07:14:49Z</td>\n",
       "      <td>80.0</td>\n",
       "      <td>...</td>\n",
       "      <td></td>\n",
       "      <td>None</td>\n",
       "      <td>{'id': 121, 'url': 'https://ll.thespacedevs.co...</td>\n",
       "      <td>{'id': 2887, 'configuration': {'id': 164, 'url...</td>\n",
       "      <td>{'id': 1303, 'name': 'Dragon CRS-2 SpX-23', 'd...</td>\n",
       "      <td>{'id': 87, 'url': 'https://ll.thespacedevs.com...</td>\n",
       "      <td>True</td>\n",
       "      <td>https://spacelaunchnow-prod-east.nyc3.digitalo...</td>\n",
       "      <td>https://spacelaunchnow-prod-east.nyc3.digitalo...</td>\n",
       "      <td>[{'id': 11, 'url': 'https://ll.thespacedevs.co...</td>\n",
       "    </tr>\n",
       "    <tr>\n",
       "      <th>3</th>\n",
       "      <td>5d461570-402b-46e6-bafc-3836d4dcd69d</td>\n",
       "      <td>https://ll.thespacedevs.com/2.2.0/launch/5d461...</td>\n",
       "      <td>astra-rocket-3-stp-27ad1</td>\n",
       "      <td>Astra Rocket 3 | STP-27AD1</td>\n",
       "      <td>{'id': 4, 'name': 'Launch Failure', 'abbrev': ...</td>\n",
       "      <td>2021-08-29T16:09:57Z</td>\n",
       "      <td>2021-08-28T22:35:00Z</td>\n",
       "      <td>2021-08-29T00:30:00Z</td>\n",
       "      <td>2021-08-28T21:00:00Z</td>\n",
       "      <td>NaN</td>\n",
       "      <td>...</td>\n",
       "      <td></td>\n",
       "      <td>None</td>\n",
       "      <td>{'id': 285, 'url': 'https://ll.thespacedevs.co...</td>\n",
       "      <td>{'id': 2980, 'configuration': {'id': 213, 'url...</td>\n",
       "      <td>{'id': 1405, 'name': 'STP-27AD1', 'description...</td>\n",
       "      <td>{'id': 114, 'url': 'https://ll.thespacedevs.co...</td>\n",
       "      <td>True</td>\n",
       "      <td>https://spacelaunchnow-prod-east.nyc3.digitalo...</td>\n",
       "      <td>https://spacelaunchnow-prod-east.nyc3.digitalo...</td>\n",
       "      <td>[]</td>\n",
       "    </tr>\n",
       "    <tr>\n",
       "      <th>4</th>\n",
       "      <td>ff3ef28b-afd5-414f-aab4-040d5b74fdd6</td>\n",
       "      <td>https://ll.thespacedevs.com/2.2.0/launch/ff3ef...</td>\n",
       "      <td>new-shepard-ns-17</td>\n",
       "      <td>New Shepard | NS-17</td>\n",
       "      <td>{'id': 3, 'name': 'Launch Successful', 'abbrev...</td>\n",
       "      <td>2021-08-27T13:46:05Z</td>\n",
       "      <td>2021-08-26T14:31:00Z</td>\n",
       "      <td>2021-08-26T14:31:00Z</td>\n",
       "      <td>2021-08-26T13:35:00Z</td>\n",
       "      <td>NaN</td>\n",
       "      <td>...</td>\n",
       "      <td></td>\n",
       "      <td>None</td>\n",
       "      <td>{'id': 141, 'url': 'https://ll.thespacedevs.co...</td>\n",
       "      <td>{'id': 2998, 'configuration': {'id': 137, 'url...</td>\n",
       "      <td>{'id': 1423, 'name': 'NS-17', 'description': '...</td>\n",
       "      <td>{'id': 90, 'url': 'https://ll.thespacedevs.com...</td>\n",
       "      <td>True</td>\n",
       "      <td>https://spacelaunchnow-prod-east.nyc3.digitalo...</td>\n",
       "      <td>https://spacelaunchnow-prod-east.nyc3.digitalo...</td>\n",
       "      <td>[]</td>\n",
       "    </tr>\n",
       "  </tbody>\n",
       "</table>\n",
       "<p>5 rows × 21 columns</p>\n",
       "</div>"
      ],
      "text/plain": [
       "                                     id  \\\n",
       "0  343e4980-cefc-42ac-bb58-f9441f27d6d8   \n",
       "1  bb2a5291-0aef-4c2a-8e29-93362d256fea   \n",
       "2  13386512-85bb-4c93-a9b0-f5eac05fbe4f   \n",
       "3  5d461570-402b-46e6-bafc-3836d4dcd69d   \n",
       "4  ff3ef28b-afd5-414f-aab4-040d5b74fdd6   \n",
       "\n",
       "                                                 url  \\\n",
       "0  https://ll.thespacedevs.com/2.2.0/launch/343e4...   \n",
       "1  https://ll.thespacedevs.com/2.2.0/launch/bb2a5...   \n",
       "2  https://ll.thespacedevs.com/2.2.0/launch/13386...   \n",
       "3  https://ll.thespacedevs.com/2.2.0/launch/5d461...   \n",
       "4  https://ll.thespacedevs.com/2.2.0/launch/ff3ef...   \n",
       "\n",
       "                                   slug  \\\n",
       "0             long-march-4c-gaofen-5-02   \n",
       "1           firefly-alpha-maiden-flight   \n",
       "2  falcon-9-block-5-dragon-crs-2-spx-23   \n",
       "3              astra-rocket-3-stp-27ad1   \n",
       "4                     new-shepard-ns-17   \n",
       "\n",
       "                                     name  \\\n",
       "0             Long March 4C | Gaofen-5-02   \n",
       "1           Firefly Alpha | Maiden Flight   \n",
       "2  Falcon 9 Block 5 | Dragon CRS-2 SpX-23   \n",
       "3              Astra Rocket 3 | STP-27AD1   \n",
       "4                     New Shepard | NS-17   \n",
       "\n",
       "                                              status          last_updated  \\\n",
       "0  {'id': 3, 'name': 'Launch Successful', 'abbrev...  2021-09-07T03:48:11Z   \n",
       "1  {'id': 4, 'name': 'Launch Failure', 'abbrev': ...  2021-09-05T19:20:28Z   \n",
       "2  {'id': 3, 'name': 'Launch Successful', 'abbrev...  2021-09-09T06:59:10Z   \n",
       "3  {'id': 4, 'name': 'Launch Failure', 'abbrev': ...  2021-08-29T16:09:57Z   \n",
       "4  {'id': 3, 'name': 'Launch Successful', 'abbrev...  2021-08-27T13:46:05Z   \n",
       "\n",
       "                    net            window_end          window_start  \\\n",
       "0  2021-09-07T03:01:00Z  2021-09-07T03:56:00Z  2021-09-07T02:35:00Z   \n",
       "1  2021-09-03T01:59:00Z  2021-09-03T05:00:00Z  2021-09-03T01:00:00Z   \n",
       "2  2021-08-29T07:14:49Z  2021-08-29T07:14:49Z  2021-08-29T07:14:49Z   \n",
       "3  2021-08-28T22:35:00Z  2021-08-29T00:30:00Z  2021-08-28T21:00:00Z   \n",
       "4  2021-08-26T14:31:00Z  2021-08-26T14:31:00Z  2021-08-26T13:35:00Z   \n",
       "\n",
       "   probability  ...                                         failreason  \\\n",
       "0          NaN  ...                                                      \n",
       "1        100.0  ...  The launch vehicle was destroyed after reachin...   \n",
       "2         80.0  ...                                                      \n",
       "3          NaN  ...                                                      \n",
       "4          NaN  ...                                                      \n",
       "\n",
       "  hashtag                            launch_service_provider  \\\n",
       "0    None  {'id': 88, 'url': 'https://ll.thespacedevs.com...   \n",
       "1    None  {'id': 265, 'url': 'https://ll.thespacedevs.co...   \n",
       "2    None  {'id': 121, 'url': 'https://ll.thespacedevs.co...   \n",
       "3    None  {'id': 285, 'url': 'https://ll.thespacedevs.co...   \n",
       "4    None  {'id': 141, 'url': 'https://ll.thespacedevs.co...   \n",
       "\n",
       "                                              rocket  \\\n",
       "0  {'id': 2964, 'configuration': {'id': 64, 'url'...   \n",
       "1  {'id': 2210, 'configuration': {'id': 179, 'url...   \n",
       "2  {'id': 2887, 'configuration': {'id': 164, 'url...   \n",
       "3  {'id': 2980, 'configuration': {'id': 213, 'url...   \n",
       "4  {'id': 2998, 'configuration': {'id': 137, 'url...   \n",
       "\n",
       "                                             mission  \\\n",
       "0  {'id': 1386, 'name': 'Gaofen-5-02', 'descripti...   \n",
       "1  {'id': 966, 'name': 'Maiden Flight', 'descript...   \n",
       "2  {'id': 1303, 'name': 'Dragon CRS-2 SpX-23', 'd...   \n",
       "3  {'id': 1405, 'name': 'STP-27AD1', 'description...   \n",
       "4  {'id': 1423, 'name': 'NS-17', 'description': '...   \n",
       "\n",
       "                                                 pad webcast_live  \\\n",
       "0  {'id': 25, 'url': 'https://ll.thespacedevs.com...        False   \n",
       "1  {'id': 39, 'url': 'https://ll.thespacedevs.com...         True   \n",
       "2  {'id': 87, 'url': 'https://ll.thespacedevs.com...         True   \n",
       "3  {'id': 114, 'url': 'https://ll.thespacedevs.co...         True   \n",
       "4  {'id': 90, 'url': 'https://ll.thespacedevs.com...         True   \n",
       "\n",
       "                                               image  \\\n",
       "0  https://spacelaunchnow-prod-east.nyc3.digitalo...   \n",
       "1  https://spacelaunchnow-prod-east.nyc3.digitalo...   \n",
       "2  https://spacelaunchnow-prod-east.nyc3.digitalo...   \n",
       "3  https://spacelaunchnow-prod-east.nyc3.digitalo...   \n",
       "4  https://spacelaunchnow-prod-east.nyc3.digitalo...   \n",
       "\n",
       "                                         infographic  \\\n",
       "0                                               None   \n",
       "1                                               None   \n",
       "2  https://spacelaunchnow-prod-east.nyc3.digitalo...   \n",
       "3  https://spacelaunchnow-prod-east.nyc3.digitalo...   \n",
       "4  https://spacelaunchnow-prod-east.nyc3.digitalo...   \n",
       "\n",
       "                                             program  \n",
       "0                                                 []  \n",
       "1                                                 []  \n",
       "2  [{'id': 11, 'url': 'https://ll.thespacedevs.co...  \n",
       "3                                                 []  \n",
       "4                                                 []  \n",
       "\n",
       "[5 rows x 21 columns]"
      ]
     },
     "metadata": {},
     "execution_count": 42
    }
   ],
   "metadata": {}
  },
  {
   "cell_type": "code",
   "execution_count": 43,
   "source": [
    "df_better = pd.json_normalize(result)\n",
    "df_better.head()\n"
   ],
   "outputs": [
    {
     "output_type": "execute_result",
     "data": {
      "text/html": [
       "<div>\n",
       "<style scoped>\n",
       "    .dataframe tbody tr th:only-of-type {\n",
       "        vertical-align: middle;\n",
       "    }\n",
       "\n",
       "    .dataframe tbody tr th {\n",
       "        vertical-align: top;\n",
       "    }\n",
       "\n",
       "    .dataframe thead th {\n",
       "        text-align: right;\n",
       "    }\n",
       "</style>\n",
       "<table border=\"1\" class=\"dataframe\">\n",
       "  <thead>\n",
       "    <tr style=\"text-align: right;\">\n",
       "      <th></th>\n",
       "      <th>id</th>\n",
       "      <th>url</th>\n",
       "      <th>slug</th>\n",
       "      <th>name</th>\n",
       "      <th>last_updated</th>\n",
       "      <th>net</th>\n",
       "      <th>window_end</th>\n",
       "      <th>window_start</th>\n",
       "      <th>probability</th>\n",
       "      <th>holdreason</th>\n",
       "      <th>...</th>\n",
       "      <th>pad.location.id</th>\n",
       "      <th>pad.location.url</th>\n",
       "      <th>pad.location.name</th>\n",
       "      <th>pad.location.country_code</th>\n",
       "      <th>pad.location.map_image</th>\n",
       "      <th>pad.location.total_launch_count</th>\n",
       "      <th>pad.location.total_landing_count</th>\n",
       "      <th>pad.map_image</th>\n",
       "      <th>pad.total_launch_count</th>\n",
       "      <th>mission.orbit</th>\n",
       "    </tr>\n",
       "  </thead>\n",
       "  <tbody>\n",
       "    <tr>\n",
       "      <th>0</th>\n",
       "      <td>343e4980-cefc-42ac-bb58-f9441f27d6d8</td>\n",
       "      <td>https://ll.thespacedevs.com/2.2.0/launch/343e4...</td>\n",
       "      <td>long-march-4c-gaofen-5-02</td>\n",
       "      <td>Long March 4C | Gaofen-5-02</td>\n",
       "      <td>2021-09-07T03:48:11Z</td>\n",
       "      <td>2021-09-07T03:01:00Z</td>\n",
       "      <td>2021-09-07T03:56:00Z</td>\n",
       "      <td>2021-09-07T02:35:00Z</td>\n",
       "      <td>NaN</td>\n",
       "      <td></td>\n",
       "      <td>...</td>\n",
       "      <td>19</td>\n",
       "      <td>https://ll.thespacedevs.com/2.2.0/location/19/...</td>\n",
       "      <td>Taiyuan, People's Republic of China</td>\n",
       "      <td>CHN</td>\n",
       "      <td>https://spacelaunchnow-prod-east.nyc3.digitalo...</td>\n",
       "      <td>100</td>\n",
       "      <td>0</td>\n",
       "      <td>https://spacelaunchnow-prod-east.nyc3.digitalo...</td>\n",
       "      <td>28</td>\n",
       "      <td>NaN</td>\n",
       "    </tr>\n",
       "    <tr>\n",
       "      <th>1</th>\n",
       "      <td>bb2a5291-0aef-4c2a-8e29-93362d256fea</td>\n",
       "      <td>https://ll.thespacedevs.com/2.2.0/launch/bb2a5...</td>\n",
       "      <td>firefly-alpha-maiden-flight</td>\n",
       "      <td>Firefly Alpha | Maiden Flight</td>\n",
       "      <td>2021-09-05T19:20:28Z</td>\n",
       "      <td>2021-09-03T01:59:00Z</td>\n",
       "      <td>2021-09-03T05:00:00Z</td>\n",
       "      <td>2021-09-03T01:00:00Z</td>\n",
       "      <td>100.0</td>\n",
       "      <td></td>\n",
       "      <td>...</td>\n",
       "      <td>11</td>\n",
       "      <td>https://ll.thespacedevs.com/2.2.0/location/11/...</td>\n",
       "      <td>Vandenberg SFB, CA, USA</td>\n",
       "      <td>USA</td>\n",
       "      <td>https://spacelaunchnow-prod-east.nyc3.digitalo...</td>\n",
       "      <td>689</td>\n",
       "      <td>3</td>\n",
       "      <td>https://spacelaunchnow-prod-east.nyc3.digitalo...</td>\n",
       "      <td>93</td>\n",
       "      <td>NaN</td>\n",
       "    </tr>\n",
       "    <tr>\n",
       "      <th>2</th>\n",
       "      <td>13386512-85bb-4c93-a9b0-f5eac05fbe4f</td>\n",
       "      <td>https://ll.thespacedevs.com/2.2.0/launch/13386...</td>\n",
       "      <td>falcon-9-block-5-dragon-crs-2-spx-23</td>\n",
       "      <td>Falcon 9 Block 5 | Dragon CRS-2 SpX-23</td>\n",
       "      <td>2021-09-09T06:59:10Z</td>\n",
       "      <td>2021-08-29T07:14:49Z</td>\n",
       "      <td>2021-08-29T07:14:49Z</td>\n",
       "      <td>2021-08-29T07:14:49Z</td>\n",
       "      <td>80.0</td>\n",
       "      <td></td>\n",
       "      <td>...</td>\n",
       "      <td>27</td>\n",
       "      <td>https://ll.thespacedevs.com/2.2.0/location/27/...</td>\n",
       "      <td>Kennedy Space Center, FL, USA</td>\n",
       "      <td>USA</td>\n",
       "      <td>https://spacelaunchnow-prod-east.nyc3.digitalo...</td>\n",
       "      <td>190</td>\n",
       "      <td>0</td>\n",
       "      <td>https://spacelaunchnow-prod-east.nyc3.digitalo...</td>\n",
       "      <td>133</td>\n",
       "      <td>NaN</td>\n",
       "    </tr>\n",
       "    <tr>\n",
       "      <th>3</th>\n",
       "      <td>5d461570-402b-46e6-bafc-3836d4dcd69d</td>\n",
       "      <td>https://ll.thespacedevs.com/2.2.0/launch/5d461...</td>\n",
       "      <td>astra-rocket-3-stp-27ad1</td>\n",
       "      <td>Astra Rocket 3 | STP-27AD1</td>\n",
       "      <td>2021-08-29T16:09:57Z</td>\n",
       "      <td>2021-08-28T22:35:00Z</td>\n",
       "      <td>2021-08-29T00:30:00Z</td>\n",
       "      <td>2021-08-28T21:00:00Z</td>\n",
       "      <td>NaN</td>\n",
       "      <td></td>\n",
       "      <td>...</td>\n",
       "      <td>25</td>\n",
       "      <td>https://ll.thespacedevs.com/2.2.0/location/25/...</td>\n",
       "      <td>Kodiak Launch Complex, Alaska, USA</td>\n",
       "      <td>USA</td>\n",
       "      <td>https://spacelaunchnow-prod-east.nyc3.digitalo...</td>\n",
       "      <td>6</td>\n",
       "      <td>0</td>\n",
       "      <td>https://spacelaunchnow-prod-east.nyc3.digitalo...</td>\n",
       "      <td>3</td>\n",
       "      <td>NaN</td>\n",
       "    </tr>\n",
       "    <tr>\n",
       "      <th>4</th>\n",
       "      <td>ff3ef28b-afd5-414f-aab4-040d5b74fdd6</td>\n",
       "      <td>https://ll.thespacedevs.com/2.2.0/launch/ff3ef...</td>\n",
       "      <td>new-shepard-ns-17</td>\n",
       "      <td>New Shepard | NS-17</td>\n",
       "      <td>2021-08-27T13:46:05Z</td>\n",
       "      <td>2021-08-26T14:31:00Z</td>\n",
       "      <td>2021-08-26T14:31:00Z</td>\n",
       "      <td>2021-08-26T13:35:00Z</td>\n",
       "      <td>NaN</td>\n",
       "      <td></td>\n",
       "      <td>...</td>\n",
       "      <td>29</td>\n",
       "      <td>https://ll.thespacedevs.com/2.2.0/location/29/...</td>\n",
       "      <td>Corn Ranch, USA</td>\n",
       "      <td>USA</td>\n",
       "      <td>https://spacelaunchnow-prod-east.nyc3.digitalo...</td>\n",
       "      <td>17</td>\n",
       "      <td>0</td>\n",
       "      <td>https://spacelaunchnow-prod-east.nyc3.digitalo...</td>\n",
       "      <td>17</td>\n",
       "      <td>NaN</td>\n",
       "    </tr>\n",
       "  </tbody>\n",
       "</table>\n",
       "<p>5 rows × 58 columns</p>\n",
       "</div>"
      ],
      "text/plain": [
       "                                     id  \\\n",
       "0  343e4980-cefc-42ac-bb58-f9441f27d6d8   \n",
       "1  bb2a5291-0aef-4c2a-8e29-93362d256fea   \n",
       "2  13386512-85bb-4c93-a9b0-f5eac05fbe4f   \n",
       "3  5d461570-402b-46e6-bafc-3836d4dcd69d   \n",
       "4  ff3ef28b-afd5-414f-aab4-040d5b74fdd6   \n",
       "\n",
       "                                                 url  \\\n",
       "0  https://ll.thespacedevs.com/2.2.0/launch/343e4...   \n",
       "1  https://ll.thespacedevs.com/2.2.0/launch/bb2a5...   \n",
       "2  https://ll.thespacedevs.com/2.2.0/launch/13386...   \n",
       "3  https://ll.thespacedevs.com/2.2.0/launch/5d461...   \n",
       "4  https://ll.thespacedevs.com/2.2.0/launch/ff3ef...   \n",
       "\n",
       "                                   slug  \\\n",
       "0             long-march-4c-gaofen-5-02   \n",
       "1           firefly-alpha-maiden-flight   \n",
       "2  falcon-9-block-5-dragon-crs-2-spx-23   \n",
       "3              astra-rocket-3-stp-27ad1   \n",
       "4                     new-shepard-ns-17   \n",
       "\n",
       "                                     name          last_updated  \\\n",
       "0             Long March 4C | Gaofen-5-02  2021-09-07T03:48:11Z   \n",
       "1           Firefly Alpha | Maiden Flight  2021-09-05T19:20:28Z   \n",
       "2  Falcon 9 Block 5 | Dragon CRS-2 SpX-23  2021-09-09T06:59:10Z   \n",
       "3              Astra Rocket 3 | STP-27AD1  2021-08-29T16:09:57Z   \n",
       "4                     New Shepard | NS-17  2021-08-27T13:46:05Z   \n",
       "\n",
       "                    net            window_end          window_start  \\\n",
       "0  2021-09-07T03:01:00Z  2021-09-07T03:56:00Z  2021-09-07T02:35:00Z   \n",
       "1  2021-09-03T01:59:00Z  2021-09-03T05:00:00Z  2021-09-03T01:00:00Z   \n",
       "2  2021-08-29T07:14:49Z  2021-08-29T07:14:49Z  2021-08-29T07:14:49Z   \n",
       "3  2021-08-28T22:35:00Z  2021-08-29T00:30:00Z  2021-08-28T21:00:00Z   \n",
       "4  2021-08-26T14:31:00Z  2021-08-26T14:31:00Z  2021-08-26T13:35:00Z   \n",
       "\n",
       "   probability holdreason  ... pad.location.id  \\\n",
       "0          NaN             ...              19   \n",
       "1        100.0             ...              11   \n",
       "2         80.0             ...              27   \n",
       "3          NaN             ...              25   \n",
       "4          NaN             ...              29   \n",
       "\n",
       "                                    pad.location.url  \\\n",
       "0  https://ll.thespacedevs.com/2.2.0/location/19/...   \n",
       "1  https://ll.thespacedevs.com/2.2.0/location/11/...   \n",
       "2  https://ll.thespacedevs.com/2.2.0/location/27/...   \n",
       "3  https://ll.thespacedevs.com/2.2.0/location/25/...   \n",
       "4  https://ll.thespacedevs.com/2.2.0/location/29/...   \n",
       "\n",
       "                     pad.location.name pad.location.country_code  \\\n",
       "0  Taiyuan, People's Republic of China                       CHN   \n",
       "1              Vandenberg SFB, CA, USA                       USA   \n",
       "2        Kennedy Space Center, FL, USA                       USA   \n",
       "3   Kodiak Launch Complex, Alaska, USA                       USA   \n",
       "4                      Corn Ranch, USA                       USA   \n",
       "\n",
       "                              pad.location.map_image  \\\n",
       "0  https://spacelaunchnow-prod-east.nyc3.digitalo...   \n",
       "1  https://spacelaunchnow-prod-east.nyc3.digitalo...   \n",
       "2  https://spacelaunchnow-prod-east.nyc3.digitalo...   \n",
       "3  https://spacelaunchnow-prod-east.nyc3.digitalo...   \n",
       "4  https://spacelaunchnow-prod-east.nyc3.digitalo...   \n",
       "\n",
       "  pad.location.total_launch_count  pad.location.total_landing_count  \\\n",
       "0                             100                                 0   \n",
       "1                             689                                 3   \n",
       "2                             190                                 0   \n",
       "3                               6                                 0   \n",
       "4                              17                                 0   \n",
       "\n",
       "                                       pad.map_image pad.total_launch_count  \\\n",
       "0  https://spacelaunchnow-prod-east.nyc3.digitalo...                     28   \n",
       "1  https://spacelaunchnow-prod-east.nyc3.digitalo...                     93   \n",
       "2  https://spacelaunchnow-prod-east.nyc3.digitalo...                    133   \n",
       "3  https://spacelaunchnow-prod-east.nyc3.digitalo...                      3   \n",
       "4  https://spacelaunchnow-prod-east.nyc3.digitalo...                     17   \n",
       "\n",
       "  mission.orbit  \n",
       "0           NaN  \n",
       "1           NaN  \n",
       "2           NaN  \n",
       "3           NaN  \n",
       "4           NaN  \n",
       "\n",
       "[5 rows x 58 columns]"
      ]
     },
     "metadata": {},
     "execution_count": 43
    }
   ],
   "metadata": {}
  },
  {
   "cell_type": "code",
   "execution_count": 44,
   "source": [
    "df.columns"
   ],
   "outputs": [
    {
     "output_type": "execute_result",
     "data": {
      "text/plain": [
       "Index(['id', 'url', 'slug', 'name', 'status', 'last_updated', 'net',\n",
       "       'window_end', 'window_start', 'probability', 'holdreason', 'failreason',\n",
       "       'hashtag', 'launch_service_provider', 'rocket', 'mission', 'pad',\n",
       "       'webcast_live', 'image', 'infographic', 'program'],\n",
       "      dtype='object')"
      ]
     },
     "metadata": {},
     "execution_count": 44
    }
   ],
   "metadata": {}
  },
  {
   "cell_type": "code",
   "execution_count": 45,
   "source": [
    "df_better.columns"
   ],
   "outputs": [
    {
     "output_type": "execute_result",
     "data": {
      "text/plain": [
       "Index(['id', 'url', 'slug', 'name', 'last_updated', 'net', 'window_end',\n",
       "       'window_start', 'probability', 'holdreason', 'failreason', 'hashtag',\n",
       "       'webcast_live', 'image', 'infographic', 'program', 'status.id',\n",
       "       'status.name', 'status.abbrev', 'status.description',\n",
       "       'launch_service_provider.id', 'launch_service_provider.url',\n",
       "       'launch_service_provider.name', 'launch_service_provider.type',\n",
       "       'rocket.id', 'rocket.configuration.id', 'rocket.configuration.url',\n",
       "       'rocket.configuration.name', 'rocket.configuration.family',\n",
       "       'rocket.configuration.full_name', 'rocket.configuration.variant',\n",
       "       'mission.id', 'mission.name', 'mission.description',\n",
       "       'mission.launch_designator', 'mission.type', 'mission.orbit.id',\n",
       "       'mission.orbit.name', 'mission.orbit.abbrev', 'pad.id', 'pad.url',\n",
       "       'pad.agency_id', 'pad.name', 'pad.info_url', 'pad.wiki_url',\n",
       "       'pad.map_url', 'pad.latitude', 'pad.longitude', 'pad.location.id',\n",
       "       'pad.location.url', 'pad.location.name', 'pad.location.country_code',\n",
       "       'pad.location.map_image', 'pad.location.total_launch_count',\n",
       "       'pad.location.total_landing_count', 'pad.map_image',\n",
       "       'pad.total_launch_count', 'mission.orbit'],\n",
       "      dtype='object')"
      ]
     },
     "metadata": {},
     "execution_count": 45
    }
   ],
   "metadata": {}
  },
  {
   "cell_type": "code",
   "execution_count": 46,
   "source": [
    "df_better[\"launch_service_provider.name\"].value_counts()"
   ],
   "outputs": [
    {
     "output_type": "execute_result",
     "data": {
      "text/plain": [
       "China Aerospace Science and Technology Corporation       18\n",
       "SpaceX                                                    7\n",
       "Arianespace                                               5\n",
       "Northrop Grumman Innovation Systems                       3\n",
       "Virgin Galactic                                           2\n",
       "Interstellar Technologies                                 2\n",
       "Blue Origin                                               2\n",
       "Indian Space Research Organization                        1\n",
       "iSpace                                                    1\n",
       "Firefly Aerospace                                         1\n",
       "Rocket Lab Ltd                                            1\n",
       "Khrunichev State Research and Production Space Center     1\n",
       "Astra Space                                               1\n",
       "Virgin Orbit                                              1\n",
       "Russian Federal Space Agency (ROSCOSMOS)                  1\n",
       "Russian Space Forces                                      1\n",
       "Iranian Space Agency                                      1\n",
       "United Launch Alliance                                    1\n",
       "Name: launch_service_provider.name, dtype: int64"
      ]
     },
     "metadata": {},
     "execution_count": 46
    }
   ],
   "metadata": {}
  },
  {
   "cell_type": "code",
   "execution_count": 47,
   "source": [
    "df_better[\"window_start\"]"
   ],
   "outputs": [
    {
     "output_type": "execute_result",
     "data": {
      "text/plain": [
       "0     2021-09-07T02:35:00Z\n",
       "1     2021-09-03T01:00:00Z\n",
       "2     2021-08-29T07:14:49Z\n",
       "3     2021-08-28T21:00:00Z\n",
       "4     2021-08-26T13:35:00Z\n",
       "5     2021-08-24T15:30:00Z\n",
       "6     2021-08-24T11:15:00Z\n",
       "7     2021-08-21T22:13:40Z\n",
       "8     2021-08-18T22:32:00Z\n",
       "9     2021-08-17T01:47:00Z\n",
       "10    2021-08-12T00:13:00Z\n",
       "11    2021-08-10T22:01:05Z\n",
       "12    2021-08-05T16:20:00Z\n",
       "13    2021-08-04T10:00:00Z\n",
       "14    2021-08-03T07:39:00Z\n",
       "15    2021-07-31T07:00:00Z\n",
       "16    2021-07-30T21:00:00Z\n",
       "17    2021-07-29T06:00:00Z\n",
       "18    2021-07-29T03:45:00Z\n",
       "19    2021-07-21T14:58:25Z\n",
       "20    2021-07-20T13:12:00Z\n",
       "21    2021-07-19T00:08:00Z\n",
       "22    2021-07-11T15:25:30Z\n",
       "23    2021-07-09T11:53:00Z\n",
       "24    2021-07-06T15:42:00Z\n",
       "25    2021-07-04T23:08:00Z\n",
       "26    2021-07-03T02:10:00Z\n",
       "27    2021-07-03T02:44:00Z\n",
       "28    2021-07-01T12:48:33Z\n",
       "29    2021-06-30T18:56:00Z\n",
       "30    2021-06-30T14:00:00Z\n",
       "31    2021-06-29T23:27:20Z\n",
       "32    2021-06-25T19:00:00Z\n",
       "33    2021-06-18T06:20:00Z\n",
       "34    2021-06-17T16:09:00Z\n",
       "35    2021-06-17T01:13:00Z\n",
       "36    2021-06-15T10:30:00Z\n",
       "37    2021-06-13T07:39:00Z\n",
       "38    2021-06-12T00:00:00Z\n",
       "39    2021-06-11T02:56:00Z\n",
       "40    2021-06-06T04:26:00Z\n",
       "41    2021-06-03T17:29:15Z\n",
       "42    2021-06-02T16:11:00Z\n",
       "43    2021-05-29T12:30:00Z\n",
       "44    2021-05-28T17:38:39Z\n",
       "45    2021-05-26T18:59:00Z\n",
       "46    2021-05-22T15:27:00Z\n",
       "47    2021-05-19T03:55:00Z\n",
       "48    2021-05-18T17:31:00Z\n",
       "49    2021-05-15T22:56:00Z\n",
       "Name: window_start, dtype: object"
      ]
     },
     "metadata": {},
     "execution_count": 47
    }
   ],
   "metadata": {}
  },
  {
   "cell_type": "code",
   "execution_count": null,
   "source": [],
   "outputs": [],
   "metadata": {}
  }
 ],
 "metadata": {
  "orig_nbformat": 4,
  "language_info": {
   "name": "python",
   "version": "3.9.7",
   "mimetype": "text/x-python",
   "codemirror_mode": {
    "name": "ipython",
    "version": 3
   },
   "pygments_lexer": "ipython3",
   "nbconvert_exporter": "python",
   "file_extension": ".py"
  },
  "kernelspec": {
   "name": "python3",
   "display_name": "Python 3.9  ('pp4rs': conda)"
  },
  "interpreter": {
   "hash": "b458573a6ccd86c70a026f7fa3606354449b41a3ed53268be7507e41f80e8f4d"
  }
 },
 "nbformat": 4,
 "nbformat_minor": 2
}