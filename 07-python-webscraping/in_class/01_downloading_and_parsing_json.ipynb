{
 "cells": [
  {
   "cell_type": "code",
   "execution_count": 1,
   "source": [
    "import requests\n",
    "\n",
    "response = requests.get(\"https://www.covid19.admin.ch/api/data/context\")"
   ],
   "outputs": [],
   "metadata": {}
  },
  {
   "cell_type": "code",
   "execution_count": 3,
   "source": [
    "type(response)"
   ],
   "outputs": [
    {
     "output_type": "execute_result",
     "data": {
      "text/plain": [
       "requests.models.Response"
      ]
     },
     "metadata": {},
     "execution_count": 3
    }
   ],
   "metadata": {}
  },
  {
   "cell_type": "code",
   "execution_count": 7,
   "source": [
    "response.request.headers"
   ],
   "outputs": [
    {
     "output_type": "execute_result",
     "data": {
      "text/plain": [
       "{'User-Agent': 'python-requests/2.26.0', 'Accept-Encoding': 'gzip, deflate, br', 'Accept': '*/*', 'Connection': 'keep-alive'}"
      ]
     },
     "metadata": {},
     "execution_count": 7
    }
   ],
   "metadata": {}
  },
  {
   "cell_type": "code",
   "execution_count": 9,
   "source": [
    "response.status_code"
   ],
   "outputs": [
    {
     "output_type": "execute_result",
     "data": {
      "text/plain": [
       "200"
      ]
     },
     "metadata": {},
     "execution_count": 9
    }
   ],
   "metadata": {}
  },
  {
   "cell_type": "code",
   "execution_count": 11,
   "source": [
    "response.headers"
   ],
   "outputs": [
    {
     "output_type": "execute_result",
     "data": {
      "text/plain": [
       "{'Content-Type': 'application/json; charset=utf-8', 'Transfer-Encoding': 'chunked', 'Connection': 'keep-alive', 'Access-Control-Allow-Origin': '*', 'Cache-Control': 'max-age=0,s-maxage=86400,must-revalidate', 'Content-Security-Policy': \"default-src 'none'; style-src 'self'; frame-ancestors 'none'\", 'Date': 'Wed, 08 Sep 2021 11:41:01 GMT', 'Feature-Policy': \"microphone 'none'; geolocation 'none'\", 'Permissions-Policy': 'microphone=(), geolocation=()', 'Referrer-Policy': 'strict-origin-when-cross-origin', 'Strict-Transport-Security': 'max-age=16070400; includeSubDomains', 'X-Content-Type-Options': 'nosniff', 'X-Frame-Options': 'sameorigin', 'X-Vcap-Request-Id': 'acc22b54-b4b4-4314-5a74-193529d7e292', 'X-Xss-Protection': '1; mode=block', 'Content-Encoding': 'gzip', 'Vary': 'Accept-Encoding', 'X-Cache': 'Hit from cloudfront', 'Via': '1.1 5626bf35345f32d3e58fb8d33ec4d967.cloudfront.net (CloudFront)', 'X-Amz-Cf-Pop': 'FRA56-P3', 'X-Amz-Cf-Id': '3aOLJ9fyw2_zcG4n4WCnKuzyHIUV8s7jY8I0mrhzwlvq7PNiuyeQFg==', 'Age': '72189'}"
      ]
     },
     "metadata": {},
     "execution_count": 11
    }
   ],
   "metadata": {}
  },
  {
   "cell_type": "code",
   "execution_count": 13,
   "source": [
    "data = response.json()"
   ],
   "outputs": [],
   "metadata": {}
  },
  {
   "cell_type": "code",
   "execution_count": 17,
   "source": [
    "type(data)"
   ],
   "outputs": [
    {
     "output_type": "execute_result",
     "data": {
      "text/plain": [
       "dict"
      ]
     },
     "metadata": {},
     "execution_count": 17
    }
   ],
   "metadata": {}
  },
  {
   "cell_type": "code",
   "execution_count": 22,
   "source": [
    "data['sources']"
   ],
   "outputs": [
    {
     "output_type": "execute_result",
     "data": {
      "text/plain": [
       "{'comment': 'OpenData DCAT-AP-CH metadata is now available as well. See below for details.',\n",
       " 'opendata': {'standard': 'DCAT-AP-CH',\n",
       "  'catalog': 'https://www.covid19.admin.ch/api/data/20210908-icrm7h5q/opendata/catalog.xml',\n",
       "  'opendataSwissDataset': 'https://opendata.swiss/en/dataset/covid-19-schweiz'},\n",
       " 'schema': {'version': '0.16.1',\n",
       "  'jsonSchema': 'https://www.covid19.admin.ch/api/data/20210908-icrm7h5q/sources/sources.schema.json'},\n",
       " 'readme': 'https://www.covid19.admin.ch/api/data/documentation/',\n",
       " 'zip': {'json': 'https://www.covid19.admin.ch/api/data/20210908-icrm7h5q/downloads/sources-json.zip',\n",
       "  'csv': 'https://www.covid19.admin.ch/api/data/20210908-icrm7h5q/downloads/sources-csv.zip'},\n",
       " 'individual': {'json': {'daily': {'cases': 'https://www.covid19.admin.ch/api/data/20210908-icrm7h5q/sources/COVID19Cases_geoRegion.json',\n",
       "    'casesVaccPersons': 'https://www.covid19.admin.ch/api/data/20210908-icrm7h5q/sources/COVID19Cases_vaccpersons.json',\n",
       "    'hosp': 'https://www.covid19.admin.ch/api/data/20210908-icrm7h5q/sources/COVID19Hosp_geoRegion.json',\n",
       "    'hospVaccPersons': 'https://www.covid19.admin.ch/api/data/20210908-icrm7h5q/sources/COVID19Hosp_vaccpersons.json',\n",
       "    'death': 'https://www.covid19.admin.ch/api/data/20210908-icrm7h5q/sources/COVID19Death_geoRegion.json',\n",
       "    'deathVaccPersons': 'https://www.covid19.admin.ch/api/data/20210908-icrm7h5q/sources/COVID19Death_vaccpersons.json',\n",
       "    'test': 'https://www.covid19.admin.ch/api/data/20210908-icrm7h5q/sources/COVID19Test_geoRegion_all.json',\n",
       "    'testPcrAntigen': 'https://www.covid19.admin.ch/api/data/20210908-icrm7h5q/sources/COVID19Test_geoRegion_PCR_Antigen.json',\n",
       "    'hospCapacity': 'https://www.covid19.admin.ch/api/data/20210908-icrm7h5q/sources/COVID19HospCapacity_geoRegion.json',\n",
       "    're': 'https://www.covid19.admin.ch/api/data/20210908-icrm7h5q/sources/COVID19Re_geoRegion.json',\n",
       "    'intCases': 'https://www.covid19.admin.ch/api/data/20210908-icrm7h5q/sources/COVID19IntCases.json',\n",
       "    'virusVariantsWgs': 'https://www.covid19.admin.ch/api/data/20210908-icrm7h5q/sources/COVID19Variants_wgs.json',\n",
       "    'covidCertificates': 'https://www.covid19.admin.ch/api/data/20210908-icrm7h5q/sources/COVID19Certificates.json'},\n",
       "   'weekly': {'byAge': {'cases': 'https://www.covid19.admin.ch/api/data/20210908-icrm7h5q/sources/COVID19Cases_geoRegion_AKL10_w.json',\n",
       "     'casesVaccPersons': 'https://www.covid19.admin.ch/api/data/20210908-icrm7h5q/sources/COVID19Cases_vaccpersons_AKL10_w.json',\n",
       "     'hosp': 'https://www.covid19.admin.ch/api/data/20210908-icrm7h5q/sources/COVID19Hosp_geoRegion_AKL10_w.json',\n",
       "     'hospVaccPersons': 'https://www.covid19.admin.ch/api/data/20210908-icrm7h5q/sources/COVID19Hosp_vaccpersons_AKL10_w.json',\n",
       "     'death': 'https://www.covid19.admin.ch/api/data/20210908-icrm7h5q/sources/COVID19Death_geoRegion_AKL10_w.json',\n",
       "     'deathVaccPersons': 'https://www.covid19.admin.ch/api/data/20210908-icrm7h5q/sources/COVID19Death_vaccpersons_AKL10_w.json',\n",
       "     'test': 'https://www.covid19.admin.ch/api/data/20210908-icrm7h5q/sources/COVID19Test_geoRegion_AKL10_w.json'},\n",
       "    'bySex': {'cases': 'https://www.covid19.admin.ch/api/data/20210908-icrm7h5q/sources/COVID19Cases_geoRegion_sex_w.json',\n",
       "     'casesVaccPersons': 'https://www.covid19.admin.ch/api/data/20210908-icrm7h5q/sources/COVID19Cases_vaccpersons_sex_w.json',\n",
       "     'hosp': 'https://www.covid19.admin.ch/api/data/20210908-icrm7h5q/sources/COVID19Hosp_geoRegion_sex_w.json',\n",
       "     'hospVaccPersons': 'https://www.covid19.admin.ch/api/data/20210908-icrm7h5q/sources/COVID19Hosp_vaccpersons_sex_w.json',\n",
       "     'death': 'https://www.covid19.admin.ch/api/data/20210908-icrm7h5q/sources/COVID19Death_geoRegion_sex_w.json',\n",
       "     'deathVaccPersons': 'https://www.covid19.admin.ch/api/data/20210908-icrm7h5q/sources/COVID19Death_vaccpersons_sex_w.json',\n",
       "     'test': 'https://www.covid19.admin.ch/api/data/20210908-icrm7h5q/sources/COVID19Test_geoRegion_sex_w.json'},\n",
       "    'default': {'cases': 'https://www.covid19.admin.ch/api/data/20210908-icrm7h5q/sources/COVID19Cases_geoRegion_w.json',\n",
       "     'hosp': 'https://www.covid19.admin.ch/api/data/20210908-icrm7h5q/sources/COVID19Hosp_geoRegion_w.json',\n",
       "     'death': 'https://www.covid19.admin.ch/api/data/20210908-icrm7h5q/sources/COVID19Death_geoRegion_w.json',\n",
       "     'test': 'https://www.covid19.admin.ch/api/data/20210908-icrm7h5q/sources/COVID19Test_geoRegion_w.json',\n",
       "     'testPcrAntigen': 'https://www.covid19.admin.ch/api/data/20210908-icrm7h5q/sources/COVID19Test_geoRegion_PCR_Antigen_w.json'}},\n",
       "   'extraGeoUnits': {'cases': {'daily': 'https://www.covid19.admin.ch/api/data/20210908-icrm7h5q/sources/COVID19Cases_extraGeoRegions_d.json',\n",
       "     'biweekly': 'https://www.covid19.admin.ch/api/data/20210908-icrm7h5q/sources/COVID19Cases_extraGeoRegions_14d.json'}},\n",
       "   'weeklyReportText': 'https://www.covid19.admin.ch/api/data/20210908-icrm7h5q/sources/COVID19WeeklyReportText.json',\n",
       "   'dailyReport': 'https://www.covid19.admin.ch/api/data/20210908-icrm7h5q/sources/COVID19EvalTextDaily.json',\n",
       "   'contactTracing': 'https://www.covid19.admin.ch/api/data/20210908-icrm7h5q/sources/COVID19QuarantineIsolation_geoRegion_d.json',\n",
       "   'intQua': 'https://www.covid19.admin.ch/api/data/20210908-icrm7h5q/sources/COVID19IntQua.json',\n",
       "   'vaccDosesDelivered': 'https://www.covid19.admin.ch/api/data/20210908-icrm7h5q/sources/COVID19VaccDosesDelivered.json',\n",
       "   'vaccDosesContingent': 'https://www.covid19.admin.ch/api/data/20210908-icrm7h5q/sources/COVID19VaccDosesContingent.json',\n",
       "   'vaccDosesAdministered': 'https://www.covid19.admin.ch/api/data/20210908-icrm7h5q/sources/COVID19VaccDosesAdministered.json',\n",
       "   'vaccPersonsV2': 'https://www.covid19.admin.ch/api/data/20210908-icrm7h5q/sources/COVID19VaccPersons_v2.json',\n",
       "   'vaccSymptoms': 'https://www.covid19.admin.ch/api/data/20210908-icrm7h5q/sources/COVID19VaccSymptoms.json',\n",
       "   'weeklyVacc': {'byAge': {'vaccDosesAdministered': 'https://www.covid19.admin.ch/api/data/20210908-icrm7h5q/sources/COVID19VaccDosesAdministered_AKL10_w.json',\n",
       "     'vaccPersonsV2': 'https://www.covid19.admin.ch/api/data/20210908-icrm7h5q/sources/COVID19VaccPersons_AKL10_w_v2.json'},\n",
       "    'bySex': {'vaccDosesAdministered': 'https://www.covid19.admin.ch/api/data/20210908-icrm7h5q/sources/COVID19VaccDosesAdministered_sex_w.json',\n",
       "     'vaccPersonsV2': 'https://www.covid19.admin.ch/api/data/20210908-icrm7h5q/sources/COVID19VaccPersons_sex_w_v2.json'},\n",
       "    'byIndication': {'vaccDosesAdministered': 'https://www.covid19.admin.ch/api/data/20210908-icrm7h5q/sources/COVID19VaccDosesAdministered_indication_w.json',\n",
       "     'fullyVaccPersonsV2': 'https://www.covid19.admin.ch/api/data/20210908-icrm7h5q/sources/COVID19FullyVaccPersons_indication_w_v2.json'},\n",
       "    'byLocation': {'vaccDosesAdministered': 'https://www.covid19.admin.ch/api/data/20210908-icrm7h5q/sources/COVID19VaccDosesAdministered_location_w.json'},\n",
       "    'byVaccine': {'vaccDosesDelivered': 'https://www.covid19.admin.ch/api/data/20210908-icrm7h5q/sources/COVID19VaccDosesDelivered_vaccine.json',\n",
       "     'vaccDosesAdministered': 'https://www.covid19.admin.ch/api/data/20210908-icrm7h5q/sources/COVID19AdministeredDoses_vaccine.json',\n",
       "     'fullyVaccPersonsV2': 'https://www.covid19.admin.ch/api/data/20210908-icrm7h5q/sources/COVID19FullyVaccPersons_vaccine_v2.json'}}},\n",
       "  'csv': {'daily': {'cases': 'https://www.covid19.admin.ch/api/data/20210908-icrm7h5q/sources/COVID19Cases_geoRegion.csv',\n",
       "    'casesVaccPersons': 'https://www.covid19.admin.ch/api/data/20210908-icrm7h5q/sources/COVID19Cases_vaccpersons.csv',\n",
       "    'hosp': 'https://www.covid19.admin.ch/api/data/20210908-icrm7h5q/sources/COVID19Hosp_geoRegion.csv',\n",
       "    'hospVaccPersons': 'https://www.covid19.admin.ch/api/data/20210908-icrm7h5q/sources/COVID19Hosp_vaccpersons.csv',\n",
       "    'death': 'https://www.covid19.admin.ch/api/data/20210908-icrm7h5q/sources/COVID19Death_geoRegion.csv',\n",
       "    'deathVaccPersons': 'https://www.covid19.admin.ch/api/data/20210908-icrm7h5q/sources/COVID19Death_vaccpersons.csv',\n",
       "    'test': 'https://www.covid19.admin.ch/api/data/20210908-icrm7h5q/sources/COVID19Test_geoRegion_all.csv',\n",
       "    'testPcrAntigen': 'https://www.covid19.admin.ch/api/data/20210908-icrm7h5q/sources/COVID19Test_geoRegion_PCR_Antigen.csv',\n",
       "    'hospCapacity': 'https://www.covid19.admin.ch/api/data/20210908-icrm7h5q/sources/COVID19HospCapacity_geoRegion.csv',\n",
       "    're': 'https://www.covid19.admin.ch/api/data/20210908-icrm7h5q/sources/COVID19Re_geoRegion.csv',\n",
       "    'intCases': 'https://www.covid19.admin.ch/api/data/20210908-icrm7h5q/sources/COVID19IntCases.csv',\n",
       "    'virusVariantsWgs': 'https://www.covid19.admin.ch/api/data/20210908-icrm7h5q/sources/COVID19Variants_wgs.csv',\n",
       "    'covidCertificates': 'https://www.covid19.admin.ch/api/data/20210908-icrm7h5q/sources/COVID19Certificates.csv'},\n",
       "   'weekly': {'byAge': {'cases': 'https://www.covid19.admin.ch/api/data/20210908-icrm7h5q/sources/COVID19Cases_geoRegion_AKL10_w.csv',\n",
       "     'casesVaccPersons': 'https://www.covid19.admin.ch/api/data/20210908-icrm7h5q/sources/COVID19Cases_vaccpersons_AKL10_w.csv',\n",
       "     'hosp': 'https://www.covid19.admin.ch/api/data/20210908-icrm7h5q/sources/COVID19Hosp_geoRegion_AKL10_w.csv',\n",
       "     'hospVaccPersons': 'https://www.covid19.admin.ch/api/data/20210908-icrm7h5q/sources/COVID19Hosp_vaccpersons_AKL10_w.csv',\n",
       "     'death': 'https://www.covid19.admin.ch/api/data/20210908-icrm7h5q/sources/COVID19Death_geoRegion_AKL10_w.csv',\n",
       "     'deathVaccPersons': 'https://www.covid19.admin.ch/api/data/20210908-icrm7h5q/sources/COVID19Death_vaccpersons_AKL10_w.csv',\n",
       "     'test': 'https://www.covid19.admin.ch/api/data/20210908-icrm7h5q/sources/COVID19Test_geoRegion_AKL10_w.csv'},\n",
       "    'bySex': {'cases': 'https://www.covid19.admin.ch/api/data/20210908-icrm7h5q/sources/COVID19Cases_geoRegion_sex_w.csv',\n",
       "     'casesVaccPersons': 'https://www.covid19.admin.ch/api/data/20210908-icrm7h5q/sources/COVID19Cases_vaccpersons_sex_w.csv',\n",
       "     'hosp': 'https://www.covid19.admin.ch/api/data/20210908-icrm7h5q/sources/COVID19Hosp_geoRegion_sex_w.csv',\n",
       "     'hospVaccPersons': 'https://www.covid19.admin.ch/api/data/20210908-icrm7h5q/sources/COVID19Hosp_vaccpersons_sex_w.csv',\n",
       "     'death': 'https://www.covid19.admin.ch/api/data/20210908-icrm7h5q/sources/COVID19Death_geoRegion_sex_w.csv',\n",
       "     'deathVaccPersons': 'https://www.covid19.admin.ch/api/data/20210908-icrm7h5q/sources/COVID19Death_vaccpersons_sex_w.csv',\n",
       "     'test': 'https://www.covid19.admin.ch/api/data/20210908-icrm7h5q/sources/COVID19Test_geoRegion_sex_w.csv'},\n",
       "    'default': {'cases': 'https://www.covid19.admin.ch/api/data/20210908-icrm7h5q/sources/COVID19Cases_geoRegion_w.csv',\n",
       "     'hosp': 'https://www.covid19.admin.ch/api/data/20210908-icrm7h5q/sources/COVID19Hosp_geoRegion_w.csv',\n",
       "     'death': 'https://www.covid19.admin.ch/api/data/20210908-icrm7h5q/sources/COVID19Death_geoRegion_w.csv',\n",
       "     'test': 'https://www.covid19.admin.ch/api/data/20210908-icrm7h5q/sources/COVID19Test_geoRegion_w.csv',\n",
       "     'testPcrAntigen': 'https://www.covid19.admin.ch/api/data/20210908-icrm7h5q/sources/COVID19Test_geoRegion_PCR_Antigen_w.csv'}},\n",
       "   'extraGeoUnits': {'cases': {'daily': 'https://www.covid19.admin.ch/api/data/20210908-icrm7h5q/sources/COVID19Cases_extraGeoRegions_d.csv',\n",
       "     'biweekly': 'https://www.covid19.admin.ch/api/data/20210908-icrm7h5q/sources/COVID19Cases_extraGeoRegions_14d.csv'}},\n",
       "   'weeklyReportText': 'https://www.covid19.admin.ch/api/data/20210908-icrm7h5q/sources/COVID19WeeklyReportText.csv',\n",
       "   'dailyReport': 'https://www.covid19.admin.ch/api/data/20210908-icrm7h5q/sources/COVID19EvalTextDaily.csv',\n",
       "   'contactTracing': 'https://www.covid19.admin.ch/api/data/20210908-icrm7h5q/sources/COVID19QuarantineIsolation_geoRegion_d.csv',\n",
       "   'intQua': 'https://www.covid19.admin.ch/api/data/20210908-icrm7h5q/sources/COVID19IntQua.csv',\n",
       "   'vaccDosesDelivered': 'https://www.covid19.admin.ch/api/data/20210908-icrm7h5q/sources/COVID19VaccDosesDelivered.csv',\n",
       "   'vaccDosesContingent': 'https://www.covid19.admin.ch/api/data/20210908-icrm7h5q/sources/COVID19VaccDosesContingent.csv',\n",
       "   'vaccDosesAdministered': 'https://www.covid19.admin.ch/api/data/20210908-icrm7h5q/sources/COVID19VaccDosesAdministered.csv',\n",
       "   'vaccPersonsV2': 'https://www.covid19.admin.ch/api/data/20210908-icrm7h5q/sources/COVID19VaccPersons_v2.csv',\n",
       "   'vaccSymptoms': 'https://www.covid19.admin.ch/api/data/20210908-icrm7h5q/sources/COVID19VaccSymptoms.csv',\n",
       "   'weeklyVacc': {'byAge': {'vaccDosesAdministered': 'https://www.covid19.admin.ch/api/data/20210908-icrm7h5q/sources/COVID19VaccDosesAdministered_AKL10_w.csv',\n",
       "     'vaccPersonsV2': 'https://www.covid19.admin.ch/api/data/20210908-icrm7h5q/sources/COVID19VaccPersons_AKL10_w_v2.csv'},\n",
       "    'bySex': {'vaccDosesAdministered': 'https://www.covid19.admin.ch/api/data/20210908-icrm7h5q/sources/COVID19VaccDosesAdministered_sex_w.csv',\n",
       "     'vaccPersonsV2': 'https://www.covid19.admin.ch/api/data/20210908-icrm7h5q/sources/COVID19VaccPersons_sex_w_v2.csv'},\n",
       "    'byIndication': {'vaccDosesAdministered': 'https://www.covid19.admin.ch/api/data/20210908-icrm7h5q/sources/COVID19VaccDosesAdministered_indication_w.csv',\n",
       "     'fullyVaccPersonsV2': 'https://www.covid19.admin.ch/api/data/20210908-icrm7h5q/sources/COVID19FullyVaccPersons_indication_w_v2.csv'},\n",
       "    'byLocation': {'vaccDosesAdministered': 'https://www.covid19.admin.ch/api/data/20210908-icrm7h5q/sources/COVID19VaccDosesAdministered_location_w.csv'},\n",
       "    'byVaccine': {'vaccDosesDelivered': 'https://www.covid19.admin.ch/api/data/20210908-icrm7h5q/sources/COVID19VaccDosesDelivered_vaccine.csv',\n",
       "     'vaccDosesAdministered': 'https://www.covid19.admin.ch/api/data/20210908-icrm7h5q/sources/COVID19AdministeredDoses_vaccine.csv',\n",
       "     'fullyVaccPersonsV2': 'https://www.covid19.admin.ch/api/data/20210908-icrm7h5q/sources/COVID19FullyVaccPersons_vaccine_v2.csv'}}}}}"
      ]
     },
     "metadata": {},
     "execution_count": 22
    }
   ],
   "metadata": {}
  },
  {
   "cell_type": "code",
   "execution_count": 23,
   "source": [
    "response_2 = requests.get(\"https://www.covid19.admin.ch/api/data/20210908-icrm7h5q/sources/COVID19Cases_geoRegion.json\")\n",
    "response_2.status_code"
   ],
   "outputs": [
    {
     "output_type": "execute_result",
     "data": {
      "text/plain": [
       "200"
      ]
     },
     "metadata": {},
     "execution_count": 23
    }
   ],
   "metadata": {}
  },
  {
   "cell_type": "code",
   "execution_count": 25,
   "source": [
    "response_2.content[:1000]"
   ],
   "outputs": [
    {
     "output_type": "execute_result",
     "data": {
      "text/plain": [
       "b'[{\"geoRegion\":\"CH\",\"datum\":\"2020-02-24\",\"entries\":1,\"sumTotal\":1,\"timeframe_7d\":false,\"offset_last7d\":780900,\"sumTotal_last7d\":0,\"timeframe_14d\":false,\"offset_last14d\":763257,\"sumTotal_last14d\":0,\"timeframe_28d\":false,\"offset_last28d\":728769,\"sumTotal_last28d\":0,\"timeframe_phase2\":false,\"offset_Phase2\":30944,\"sumTotal_Phase2\":0,\"timeframe_phase2b\":false,\"offset_Phase2b\":52690,\"sumTotal_Phase2b\":0,\"timeframe_phase3\":false,\"offset_Phase3\":540911,\"sumTotal_Phase3\":0,\"timeframe_vacc_info\":false,\"offset_vacc_info\":515824,\"sumTotal_vacc_info\":0,\"timeframe_all\":true,\"entries_diff_last_age\":1,\"pop\":8606033,\"inz_entries\":0.01,\"inzsumTotal\":0.01,\"type\":\"COVID19Cases\",\"type_variant\":\"\",\"version\":\"2021-09-08_07-52-17\",\"datum_unit\":\"day\",\"entries_letzter_stand\":1,\"entries_neu_gemeldet\":0,\"entries_diff_last\":3543},{\"geoRegion\":\"CH\",\"datum\":\"2020-02-25\",\"entries\":1,\"sumTotal\":2,\"timeframe_7d\":false,\"offset_last7d\":780900,\"sumTotal_last7d\":0,\"timeframe_14d\":false,\"offset_last14d\":763257,\"sumTotal_last'"
      ]
     },
     "metadata": {},
     "execution_count": 25
    }
   ],
   "metadata": {}
  },
  {
   "cell_type": "code",
   "execution_count": 29,
   "source": [
    "data_2 = response_2.json()"
   ],
   "outputs": [],
   "metadata": {}
  },
  {
   "cell_type": "code",
   "execution_count": 30,
   "source": [
    "type(data_2)"
   ],
   "outputs": [
    {
     "output_type": "execute_result",
     "data": {
      "text/plain": [
       "list"
      ]
     },
     "metadata": {},
     "execution_count": 30
    }
   ],
   "metadata": {}
  },
  {
   "cell_type": "code",
   "execution_count": 31,
   "source": [
    "data_2[1]"
   ],
   "outputs": [
    {
     "output_type": "execute_result",
     "data": {
      "text/plain": [
       "{'geoRegion': 'CH',\n",
       " 'datum': '2020-02-25',\n",
       " 'entries': 1,\n",
       " 'sumTotal': 2,\n",
       " 'timeframe_7d': False,\n",
       " 'offset_last7d': 780900,\n",
       " 'sumTotal_last7d': 0,\n",
       " 'timeframe_14d': False,\n",
       " 'offset_last14d': 763257,\n",
       " 'sumTotal_last14d': 0,\n",
       " 'timeframe_28d': False,\n",
       " 'offset_last28d': 728769,\n",
       " 'sumTotal_last28d': 0,\n",
       " 'timeframe_phase2': False,\n",
       " 'offset_Phase2': 30944,\n",
       " 'sumTotal_Phase2': 0,\n",
       " 'timeframe_phase2b': False,\n",
       " 'offset_Phase2b': 52690,\n",
       " 'sumTotal_Phase2b': 0,\n",
       " 'timeframe_phase3': False,\n",
       " 'offset_Phase3': 540911,\n",
       " 'sumTotal_Phase3': 0,\n",
       " 'timeframe_vacc_info': False,\n",
       " 'offset_vacc_info': 515824,\n",
       " 'sumTotal_vacc_info': 0,\n",
       " 'timeframe_all': True,\n",
       " 'entries_diff_last_age': 1,\n",
       " 'pop': 8606033,\n",
       " 'inz_entries': 0.01,\n",
       " 'inzsumTotal': 0.02,\n",
       " 'type': 'COVID19Cases',\n",
       " 'type_variant': '',\n",
       " 'version': '2021-09-08_07-52-17',\n",
       " 'datum_unit': 'day',\n",
       " 'entries_letzter_stand': 1,\n",
       " 'entries_neu_gemeldet': 0,\n",
       " 'entries_diff_last': 3543}"
      ]
     },
     "metadata": {},
     "execution_count": 31
    }
   ],
   "metadata": {}
  },
  {
   "cell_type": "code",
   "execution_count": 32,
   "source": [
    "import pandas as pd"
   ],
   "outputs": [],
   "metadata": {}
  },
  {
   "cell_type": "code",
   "execution_count": 33,
   "source": [
    "df = pd.DataFrame(data_2)\n",
    "type(df)"
   ],
   "outputs": [
    {
     "output_type": "execute_result",
     "data": {
      "text/plain": [
       "pandas.core.frame.DataFrame"
      ]
     },
     "metadata": {},
     "execution_count": 33
    }
   ],
   "metadata": {}
  },
  {
   "cell_type": "code",
   "execution_count": 37,
   "source": [
    "df.head(10)"
   ],
   "outputs": [
    {
     "output_type": "execute_result",
     "data": {
      "text/html": [
       "<div>\n",
       "<style scoped>\n",
       "    .dataframe tbody tr th:only-of-type {\n",
       "        vertical-align: middle;\n",
       "    }\n",
       "\n",
       "    .dataframe tbody tr th {\n",
       "        vertical-align: top;\n",
       "    }\n",
       "\n",
       "    .dataframe thead th {\n",
       "        text-align: right;\n",
       "    }\n",
       "</style>\n",
       "<table border=\"1\" class=\"dataframe\">\n",
       "  <thead>\n",
       "    <tr style=\"text-align: right;\">\n",
       "      <th></th>\n",
       "      <th>geoRegion</th>\n",
       "      <th>datum</th>\n",
       "      <th>entries</th>\n",
       "      <th>sumTotal</th>\n",
       "      <th>timeframe_7d</th>\n",
       "      <th>offset_last7d</th>\n",
       "      <th>sumTotal_last7d</th>\n",
       "      <th>timeframe_14d</th>\n",
       "      <th>offset_last14d</th>\n",
       "      <th>sumTotal_last14d</th>\n",
       "      <th>...</th>\n",
       "      <th>sumdelta7d</th>\n",
       "      <th>inzdelta7d</th>\n",
       "      <th>sum14d</th>\n",
       "      <th>inzsum14d</th>\n",
       "      <th>inzsumTotal_Phase2</th>\n",
       "      <th>inzsumTotal_Phase2b</th>\n",
       "      <th>inzsumTotal_Phase3</th>\n",
       "      <th>inzsumTotal_last28d</th>\n",
       "      <th>inzsumTotal_last14d</th>\n",
       "      <th>inzsumTotal_last7d</th>\n",
       "    </tr>\n",
       "  </thead>\n",
       "  <tbody>\n",
       "    <tr>\n",
       "      <th>0</th>\n",
       "      <td>CH</td>\n",
       "      <td>2020-02-24</td>\n",
       "      <td>1</td>\n",
       "      <td>1</td>\n",
       "      <td>False</td>\n",
       "      <td>780900</td>\n",
       "      <td>0</td>\n",
       "      <td>False</td>\n",
       "      <td>763257</td>\n",
       "      <td>0</td>\n",
       "      <td>...</td>\n",
       "      <td>NaN</td>\n",
       "      <td>NaN</td>\n",
       "      <td>NaN</td>\n",
       "      <td>NaN</td>\n",
       "      <td>NaN</td>\n",
       "      <td>NaN</td>\n",
       "      <td>NaN</td>\n",
       "      <td>NaN</td>\n",
       "      <td>NaN</td>\n",
       "      <td>NaN</td>\n",
       "    </tr>\n",
       "    <tr>\n",
       "      <th>1</th>\n",
       "      <td>CH</td>\n",
       "      <td>2020-02-25</td>\n",
       "      <td>1</td>\n",
       "      <td>2</td>\n",
       "      <td>False</td>\n",
       "      <td>780900</td>\n",
       "      <td>0</td>\n",
       "      <td>False</td>\n",
       "      <td>763257</td>\n",
       "      <td>0</td>\n",
       "      <td>...</td>\n",
       "      <td>NaN</td>\n",
       "      <td>NaN</td>\n",
       "      <td>NaN</td>\n",
       "      <td>NaN</td>\n",
       "      <td>NaN</td>\n",
       "      <td>NaN</td>\n",
       "      <td>NaN</td>\n",
       "      <td>NaN</td>\n",
       "      <td>NaN</td>\n",
       "      <td>NaN</td>\n",
       "    </tr>\n",
       "    <tr>\n",
       "      <th>2</th>\n",
       "      <td>CH</td>\n",
       "      <td>2020-02-26</td>\n",
       "      <td>10</td>\n",
       "      <td>12</td>\n",
       "      <td>False</td>\n",
       "      <td>780900</td>\n",
       "      <td>0</td>\n",
       "      <td>False</td>\n",
       "      <td>763257</td>\n",
       "      <td>0</td>\n",
       "      <td>...</td>\n",
       "      <td>NaN</td>\n",
       "      <td>NaN</td>\n",
       "      <td>NaN</td>\n",
       "      <td>NaN</td>\n",
       "      <td>NaN</td>\n",
       "      <td>NaN</td>\n",
       "      <td>NaN</td>\n",
       "      <td>NaN</td>\n",
       "      <td>NaN</td>\n",
       "      <td>NaN</td>\n",
       "    </tr>\n",
       "    <tr>\n",
       "      <th>3</th>\n",
       "      <td>CH</td>\n",
       "      <td>2020-02-27</td>\n",
       "      <td>10</td>\n",
       "      <td>22</td>\n",
       "      <td>False</td>\n",
       "      <td>780900</td>\n",
       "      <td>0</td>\n",
       "      <td>False</td>\n",
       "      <td>763257</td>\n",
       "      <td>0</td>\n",
       "      <td>...</td>\n",
       "      <td>NaN</td>\n",
       "      <td>NaN</td>\n",
       "      <td>NaN</td>\n",
       "      <td>NaN</td>\n",
       "      <td>NaN</td>\n",
       "      <td>NaN</td>\n",
       "      <td>NaN</td>\n",
       "      <td>NaN</td>\n",
       "      <td>NaN</td>\n",
       "      <td>NaN</td>\n",
       "    </tr>\n",
       "    <tr>\n",
       "      <th>4</th>\n",
       "      <td>CH</td>\n",
       "      <td>2020-02-28</td>\n",
       "      <td>10</td>\n",
       "      <td>32</td>\n",
       "      <td>False</td>\n",
       "      <td>780900</td>\n",
       "      <td>0</td>\n",
       "      <td>False</td>\n",
       "      <td>763257</td>\n",
       "      <td>0</td>\n",
       "      <td>...</td>\n",
       "      <td>NaN</td>\n",
       "      <td>NaN</td>\n",
       "      <td>NaN</td>\n",
       "      <td>NaN</td>\n",
       "      <td>NaN</td>\n",
       "      <td>NaN</td>\n",
       "      <td>NaN</td>\n",
       "      <td>NaN</td>\n",
       "      <td>NaN</td>\n",
       "      <td>NaN</td>\n",
       "    </tr>\n",
       "    <tr>\n",
       "      <th>5</th>\n",
       "      <td>CH</td>\n",
       "      <td>2020-02-29</td>\n",
       "      <td>13</td>\n",
       "      <td>45</td>\n",
       "      <td>False</td>\n",
       "      <td>780900</td>\n",
       "      <td>0</td>\n",
       "      <td>False</td>\n",
       "      <td>763257</td>\n",
       "      <td>0</td>\n",
       "      <td>...</td>\n",
       "      <td>NaN</td>\n",
       "      <td>NaN</td>\n",
       "      <td>NaN</td>\n",
       "      <td>NaN</td>\n",
       "      <td>NaN</td>\n",
       "      <td>NaN</td>\n",
       "      <td>NaN</td>\n",
       "      <td>NaN</td>\n",
       "      <td>NaN</td>\n",
       "      <td>NaN</td>\n",
       "    </tr>\n",
       "    <tr>\n",
       "      <th>6</th>\n",
       "      <td>CH</td>\n",
       "      <td>2020-03-01</td>\n",
       "      <td>11</td>\n",
       "      <td>56</td>\n",
       "      <td>False</td>\n",
       "      <td>780900</td>\n",
       "      <td>0</td>\n",
       "      <td>False</td>\n",
       "      <td>763257</td>\n",
       "      <td>0</td>\n",
       "      <td>...</td>\n",
       "      <td>NaN</td>\n",
       "      <td>NaN</td>\n",
       "      <td>NaN</td>\n",
       "      <td>NaN</td>\n",
       "      <td>NaN</td>\n",
       "      <td>NaN</td>\n",
       "      <td>NaN</td>\n",
       "      <td>NaN</td>\n",
       "      <td>NaN</td>\n",
       "      <td>NaN</td>\n",
       "    </tr>\n",
       "    <tr>\n",
       "      <th>7</th>\n",
       "      <td>CH</td>\n",
       "      <td>2020-03-02</td>\n",
       "      <td>30</td>\n",
       "      <td>86</td>\n",
       "      <td>False</td>\n",
       "      <td>780900</td>\n",
       "      <td>0</td>\n",
       "      <td>False</td>\n",
       "      <td>763257</td>\n",
       "      <td>0</td>\n",
       "      <td>...</td>\n",
       "      <td>29.0</td>\n",
       "      <td>0.34</td>\n",
       "      <td>NaN</td>\n",
       "      <td>NaN</td>\n",
       "      <td>NaN</td>\n",
       "      <td>NaN</td>\n",
       "      <td>NaN</td>\n",
       "      <td>NaN</td>\n",
       "      <td>NaN</td>\n",
       "      <td>NaN</td>\n",
       "    </tr>\n",
       "    <tr>\n",
       "      <th>8</th>\n",
       "      <td>CH</td>\n",
       "      <td>2020-03-03</td>\n",
       "      <td>33</td>\n",
       "      <td>119</td>\n",
       "      <td>False</td>\n",
       "      <td>780900</td>\n",
       "      <td>0</td>\n",
       "      <td>False</td>\n",
       "      <td>763257</td>\n",
       "      <td>0</td>\n",
       "      <td>...</td>\n",
       "      <td>32.0</td>\n",
       "      <td>0.37</td>\n",
       "      <td>NaN</td>\n",
       "      <td>NaN</td>\n",
       "      <td>NaN</td>\n",
       "      <td>NaN</td>\n",
       "      <td>NaN</td>\n",
       "      <td>NaN</td>\n",
       "      <td>NaN</td>\n",
       "      <td>NaN</td>\n",
       "    </tr>\n",
       "    <tr>\n",
       "      <th>9</th>\n",
       "      <td>CH</td>\n",
       "      <td>2020-03-04</td>\n",
       "      <td>61</td>\n",
       "      <td>180</td>\n",
       "      <td>False</td>\n",
       "      <td>780900</td>\n",
       "      <td>0</td>\n",
       "      <td>False</td>\n",
       "      <td>763257</td>\n",
       "      <td>0</td>\n",
       "      <td>...</td>\n",
       "      <td>51.0</td>\n",
       "      <td>0.59</td>\n",
       "      <td>NaN</td>\n",
       "      <td>NaN</td>\n",
       "      <td>NaN</td>\n",
       "      <td>NaN</td>\n",
       "      <td>NaN</td>\n",
       "      <td>NaN</td>\n",
       "      <td>NaN</td>\n",
       "      <td>NaN</td>\n",
       "    </tr>\n",
       "  </tbody>\n",
       "</table>\n",
       "<p>10 rows × 53 columns</p>\n",
       "</div>"
      ],
      "text/plain": [
       "  geoRegion       datum  entries  sumTotal  timeframe_7d  offset_last7d  \\\n",
       "0        CH  2020-02-24        1         1         False         780900   \n",
       "1        CH  2020-02-25        1         2         False         780900   \n",
       "2        CH  2020-02-26       10        12         False         780900   \n",
       "3        CH  2020-02-27       10        22         False         780900   \n",
       "4        CH  2020-02-28       10        32         False         780900   \n",
       "5        CH  2020-02-29       13        45         False         780900   \n",
       "6        CH  2020-03-01       11        56         False         780900   \n",
       "7        CH  2020-03-02       30        86         False         780900   \n",
       "8        CH  2020-03-03       33       119         False         780900   \n",
       "9        CH  2020-03-04       61       180         False         780900   \n",
       "\n",
       "   sumTotal_last7d  timeframe_14d  offset_last14d  sumTotal_last14d  ...  \\\n",
       "0                0          False          763257                 0  ...   \n",
       "1                0          False          763257                 0  ...   \n",
       "2                0          False          763257                 0  ...   \n",
       "3                0          False          763257                 0  ...   \n",
       "4                0          False          763257                 0  ...   \n",
       "5                0          False          763257                 0  ...   \n",
       "6                0          False          763257                 0  ...   \n",
       "7                0          False          763257                 0  ...   \n",
       "8                0          False          763257                 0  ...   \n",
       "9                0          False          763257                 0  ...   \n",
       "\n",
       "   sumdelta7d  inzdelta7d  sum14d  inzsum14d  inzsumTotal_Phase2  \\\n",
       "0         NaN         NaN     NaN        NaN                 NaN   \n",
       "1         NaN         NaN     NaN        NaN                 NaN   \n",
       "2         NaN         NaN     NaN        NaN                 NaN   \n",
       "3         NaN         NaN     NaN        NaN                 NaN   \n",
       "4         NaN         NaN     NaN        NaN                 NaN   \n",
       "5         NaN         NaN     NaN        NaN                 NaN   \n",
       "6         NaN         NaN     NaN        NaN                 NaN   \n",
       "7        29.0        0.34     NaN        NaN                 NaN   \n",
       "8        32.0        0.37     NaN        NaN                 NaN   \n",
       "9        51.0        0.59     NaN        NaN                 NaN   \n",
       "\n",
       "   inzsumTotal_Phase2b  inzsumTotal_Phase3  inzsumTotal_last28d  \\\n",
       "0                  NaN                 NaN                  NaN   \n",
       "1                  NaN                 NaN                  NaN   \n",
       "2                  NaN                 NaN                  NaN   \n",
       "3                  NaN                 NaN                  NaN   \n",
       "4                  NaN                 NaN                  NaN   \n",
       "5                  NaN                 NaN                  NaN   \n",
       "6                  NaN                 NaN                  NaN   \n",
       "7                  NaN                 NaN                  NaN   \n",
       "8                  NaN                 NaN                  NaN   \n",
       "9                  NaN                 NaN                  NaN   \n",
       "\n",
       "   inzsumTotal_last14d  inzsumTotal_last7d  \n",
       "0                  NaN                 NaN  \n",
       "1                  NaN                 NaN  \n",
       "2                  NaN                 NaN  \n",
       "3                  NaN                 NaN  \n",
       "4                  NaN                 NaN  \n",
       "5                  NaN                 NaN  \n",
       "6                  NaN                 NaN  \n",
       "7                  NaN                 NaN  \n",
       "8                  NaN                 NaN  \n",
       "9                  NaN                 NaN  \n",
       "\n",
       "[10 rows x 53 columns]"
      ]
     },
     "metadata": {},
     "execution_count": 37
    }
   ],
   "metadata": {}
  },
  {
   "cell_type": "code",
   "execution_count": 43,
   "source": [
    "data_2[0].keys()"
   ],
   "outputs": [
    {
     "output_type": "execute_result",
     "data": {
      "text/plain": [
       "dict_keys(['geoRegion', 'datum', 'entries', 'sumTotal', 'timeframe_7d', 'offset_last7d', 'sumTotal_last7d', 'timeframe_14d', 'offset_last14d', 'sumTotal_last14d', 'timeframe_28d', 'offset_last28d', 'sumTotal_last28d', 'timeframe_phase2', 'offset_Phase2', 'sumTotal_Phase2', 'timeframe_phase2b', 'offset_Phase2b', 'sumTotal_Phase2b', 'timeframe_phase3', 'offset_Phase3', 'sumTotal_Phase3', 'timeframe_vacc_info', 'offset_vacc_info', 'sumTotal_vacc_info', 'timeframe_all', 'entries_diff_last_age', 'pop', 'inz_entries', 'inzsumTotal', 'type', 'type_variant', 'version', 'datum_unit', 'entries_letzter_stand', 'entries_neu_gemeldet', 'entries_diff_last'])"
      ]
     },
     "metadata": {},
     "execution_count": 43
    }
   ],
   "metadata": {}
  },
  {
   "cell_type": "code",
   "execution_count": null,
   "source": [],
   "outputs": [],
   "metadata": {}
  }
 ],
 "metadata": {
  "orig_nbformat": 4,
  "language_info": {
   "name": "python",
   "version": "3.9.7",
   "mimetype": "text/x-python",
   "codemirror_mode": {
    "name": "ipython",
    "version": 3
   },
   "pygments_lexer": "ipython3",
   "nbconvert_exporter": "python",
   "file_extension": ".py"
  },
  "kernelspec": {
   "name": "python3",
   "display_name": "Python 3.9.7 64-bit ('pp4rs': conda)"
  },
  "interpreter": {
   "hash": "b458573a6ccd86c70a026f7fa3606354449b41a3ed53268be7507e41f80e8f4d"
  }
 },
 "nbformat": 4,
 "nbformat_minor": 2
}