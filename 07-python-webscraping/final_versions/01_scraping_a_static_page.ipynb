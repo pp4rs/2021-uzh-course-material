{
 "cells": [
  {
   "cell_type": "code",
   "execution_count": 1,
   "source": [
    "import requests\n",
    "import bs4\n",
    "import pandas as pd\n",
    "import time"
   ],
   "outputs": [],
   "metadata": {}
  },
  {
   "cell_type": "code",
   "execution_count": 2,
   "source": [
    "def get_pagination_links(url):\n",
    "    \"\"\"Download a list of links from a Uni St. Gallen 'people' page\n",
    "\n",
    "    Args:\n",
    "      - url: The link to the page 'people' page\n",
    "\n",
    "    Returns:\n",
    "      A list of URLs for each page\n",
    "    \"\"\"\n",
    "    \n",
    "    response = requests.get(url)\n",
    "    response.raise_for_status()\n",
    "\n",
    "    soup = bs4.BeautifulSoup(response.content)\n",
    "    pagination_div = soup.find(\"div\", class_=\"g-pagination\")\n",
    "\n",
    "    link_tags = pagination_div.find_all(\"a\")\n",
    "    links = []\n",
    "    for tag in link_tags:\n",
    "        if tag[\"href\"] not in links:\n",
    "            links.append(\"https://www.unisg.ch\" + tag[\"href\"])\n",
    "\n",
    "    return links"
   ],
   "outputs": [],
   "metadata": {}
  },
  {
   "cell_type": "code",
   "execution_count": 3,
   "source": [
    "def get_people_info(page_url):\n",
    "    \"\"\"Opens a 'persons' page and scrapes some data from it\n",
    "\n",
    "    Args:\n",
    "      - page_url: The link to the page 'people' page\n",
    "    \n",
    "    Returns:\n",
    "      A list of dictionaries containing the downloaded data\n",
    "\n",
    "    \"\"\"\n",
    "\n",
    "    response = requests.get(page_url)\n",
    "    response.raise_for_status()\n",
    "\n",
    "    soup = bs4.BeautifulSoup(response.content)\n",
    "    people_div = soup.find(\"div\", class_=\"g-person-container\")\n",
    "\n",
    "    people_box_tags = people_div.find_all(class_=\"e-person-content\")\n",
    "\n",
    "    person_data = [extract_person_info(box_tag) for box_tag in people_box_tags]\n",
    "\n",
    "    return person_data\n",
    "\n",
    "\n",
    "def extract_person_info(tag):\n",
    "    \"\"\"Extracts useful info from a person's box on the page\n",
    "\n",
    "    Args:\n",
    "      tag: a BeautifulSoup Tag pretaining to the div for the person's box\n",
    "    \n",
    "    Returns:\n",
    "      A dictionary containing some of the person's data\n",
    "    \"\"\"\n",
    "\n",
    "    name = tag.find(\"h3\").text\n",
    "    title = tag.find(\"span\", class_=\"e-person-academic\").text\n",
    "    role = tag.find(\"div\", class_=\"e-person-role\").text.strip()\n",
    "    link = tag.find(\"div\", class_=\"e-person-title\").find(\"a\")[\"href\"]\n",
    "\n",
    "    data = {\n",
    "        \"name\": name,\n",
    "        \"title\": title,\n",
    "        \"role\": role,\n",
    "        \"link\": link\n",
    "    }\n",
    "\n",
    "    return data"
   ],
   "outputs": [],
   "metadata": {}
  },
  {
   "cell_type": "code",
   "execution_count": 4,
   "source": [
    "def scrape_person_data(url, wait_time=1):\n",
    "    \"\"\"Scrape everyones' data (all pages) from a Uni St. Gallen 'people' page\n",
    "\n",
    "    Args: \n",
    "      - url: The link to the page 'people' page\n",
    "      - wait_time: Time to wait between page downloads\n",
    "\n",
    "    Returns:\n",
    "      A pandas DataFrame containing the scraped data\n",
    "    \"\"\"\n",
    "    \n",
    "    links = get_pagination_links(url)\n",
    "    time.sleep(wait_time)\n",
    "\n",
    "    persons = []\n",
    "    for link in links:\n",
    "        persons.extend(get_people_info(link))\n",
    "        time.sleep(wait_time)\n",
    "\n",
    "    return pd.DataFrame(persons)"
   ],
   "outputs": [],
   "metadata": {}
  },
  {
   "cell_type": "code",
   "execution_count": 5,
   "source": [
    "profs = scrape_person_data(\"https://www.unisg.ch/en/universitaet/schools/economics-and-political-science/ueber-seps/dozierende/professoren\")"
   ],
   "outputs": [],
   "metadata": {}
  },
  {
   "cell_type": "code",
   "execution_count": 6,
   "source": [
    "assistant_profs = scrape_person_data(\"https://www.unisg.ch/en/universitaet/schools/economics-and-political-science/ueber-seps/dozierende/assistenzprofessoren\")"
   ],
   "outputs": [],
   "metadata": {}
  },
  {
   "cell_type": "code",
   "execution_count": 7,
   "source": [
    "everyone = pd.concat([profs, assistant_profs], ignore_index=True)\n",
    "everyone.head()"
   ],
   "outputs": [
    {
     "output_type": "execute_result",
     "data": {
      "text/html": [
       "<div>\n",
       "<style scoped>\n",
       "    .dataframe tbody tr th:only-of-type {\n",
       "        vertical-align: middle;\n",
       "    }\n",
       "\n",
       "    .dataframe tbody tr th {\n",
       "        vertical-align: top;\n",
       "    }\n",
       "\n",
       "    .dataframe thead th {\n",
       "        text-align: right;\n",
       "    }\n",
       "</style>\n",
       "<table border=\"1\" class=\"dataframe\">\n",
       "  <thead>\n",
       "    <tr style=\"text-align: right;\">\n",
       "      <th></th>\n",
       "      <th>name</th>\n",
       "      <th>title</th>\n",
       "      <th>role</th>\n",
       "      <th>link</th>\n",
       "    </tr>\n",
       "  </thead>\n",
       "  <tbody>\n",
       "    <tr>\n",
       "      <th>0</th>\n",
       "      <td>Francesco Audrino</td>\n",
       "      <td>Prof. Ph.D.</td>\n",
       "      <td>Professor of Statistics</td>\n",
       "      <td>https://www.unisg.ch/en/personenverzeichnis/44...</td>\n",
       "    </tr>\n",
       "    <tr>\n",
       "      <th>1</th>\n",
       "      <td>Johannes Binswanger</td>\n",
       "      <td>Prof. Dr.</td>\n",
       "      <td>Professor of Business Economics and Public Policy</td>\n",
       "      <td>https://www.unisg.ch/en/personenverzeichnis/22...</td>\n",
       "    </tr>\n",
       "    <tr>\n",
       "      <th>2</th>\n",
       "      <td>Timo Boppart</td>\n",
       "      <td>Prof. PhD</td>\n",
       "      <td>Professor for International Economics</td>\n",
       "      <td>https://www.unisg.ch/en/personenverzeichnis/fb...</td>\n",
       "    </tr>\n",
       "    <tr>\n",
       "      <th>3</th>\n",
       "      <td>Stefan Bühler</td>\n",
       "      <td>Prof. Dr.</td>\n",
       "      <td>Professor of Applied Microeconomics</td>\n",
       "      <td>https://www.unisg.ch/en/personenverzeichnis/62...</td>\n",
       "    </tr>\n",
       "    <tr>\n",
       "      <th>4</th>\n",
       "      <td>Guido Cozzi</td>\n",
       "      <td>Prof. PhD</td>\n",
       "      <td>Professor of Macroeconomics</td>\n",
       "      <td>https://www.unisg.ch/en/personenverzeichnis/79...</td>\n",
       "    </tr>\n",
       "  </tbody>\n",
       "</table>\n",
       "</div>"
      ],
      "text/plain": [
       "                  name        title  \\\n",
       "0    Francesco Audrino  Prof. Ph.D.   \n",
       "1  Johannes Binswanger    Prof. Dr.   \n",
       "2         Timo Boppart    Prof. PhD   \n",
       "3        Stefan Bühler    Prof. Dr.   \n",
       "4          Guido Cozzi    Prof. PhD   \n",
       "\n",
       "                                                role  \\\n",
       "0                            Professor of Statistics   \n",
       "1  Professor of Business Economics and Public Policy   \n",
       "2              Professor for International Economics   \n",
       "3                Professor of Applied Microeconomics   \n",
       "4                        Professor of Macroeconomics   \n",
       "\n",
       "                                                link  \n",
       "0  https://www.unisg.ch/en/personenverzeichnis/44...  \n",
       "1  https://www.unisg.ch/en/personenverzeichnis/22...  \n",
       "2  https://www.unisg.ch/en/personenverzeichnis/fb...  \n",
       "3  https://www.unisg.ch/en/personenverzeichnis/62...  \n",
       "4  https://www.unisg.ch/en/personenverzeichnis/79...  "
      ]
     },
     "metadata": {},
     "execution_count": 7
    }
   ],
   "metadata": {}
  },
  {
   "cell_type": "code",
   "execution_count": 8,
   "source": [
    "everyone.to_csv(\"st_gallen_faculty.csv\")"
   ],
   "outputs": [],
   "metadata": {}
  }
 ],
 "metadata": {
  "orig_nbformat": 4,
  "language_info": {
   "name": "python",
   "version": "3.9.7",
   "mimetype": "text/x-python",
   "codemirror_mode": {
    "name": "ipython",
    "version": 3
   },
   "pygments_lexer": "ipython3",
   "nbconvert_exporter": "python",
   "file_extension": ".py"
  },
  "kernelspec": {
   "name": "python3",
   "display_name": "Python 3.9.7 64-bit ('pp4rs': conda)"
  },
  "interpreter": {
   "hash": "b458573a6ccd86c70a026f7fa3606354449b41a3ed53268be7507e41f80e8f4d"
  }
 },
 "nbformat": 4,
 "nbformat_minor": 2
}