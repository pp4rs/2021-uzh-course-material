{
 "cells": [
  {
   "cell_type": "markdown",
   "metadata": {},
   "source": [
    "# 11.1 Introduction\n",
    "\n",
    "There is no silver bullet to getting info from the internet.\n",
    "The coding requirements in these notes start easy and will gradually become more demanding. We will cover the following web scraping techniques:\n",
    "\n",
    "1. Pandas\n",
    "2. APIs\n",
    "3. Scraping static webpages with BeautifulSoup\n",
    "4. Scraping dynamic wepages with Selenium\n"
   ]
  },
  {
   "cell_type": "markdown",
   "metadata": {},
   "source": [
    "## 11.1.1 Pandas\n",
    "\n",
    "The Pandas library has a very useful webscraping command: `read_html`. The `read_html` command works for webpages that contain tables that are particularly well behaved. Let's see an example: https://en.wikipedia.org/wiki/List_of_countries_by_GDP_(nominal)\n",
    "\n",
    "At first glance, it seems that there are three tables in this Wikipedia page:\n",
    "1. data from the IMF\n",
    "2. data from the World Bank\n",
    "3. data from the UN\n",
    "\n",
    "Let's see which tables pandas recognizes."
   ]
  },
  {
   "cell_type": "code",
   "execution_count": 3,
   "metadata": {},
   "outputs": [
    {
     "name": "stdout",
     "output_type": "stream",
     "text": [
      "10\n"
     ]
    }
   ],
   "source": [
    "# Scrape all tables from Wikipedia page\n",
    "import pandas as pd\n",
    "\n",
    "url = 'https://en.wikipedia.org/wiki/List_of_countries_by_GDP_(nominal)'\n",
    "df_list = pd.read_html(url)\n",
    "\n",
    "# Check number of tables on the page\n",
    "print(len(df_list))"
   ]
  },
  {
   "cell_type": "markdown",
   "metadata": {},
   "source": [
    "Apparently Pandas has found 10 tables in this webpage. Let's see what is their content."
   ]
  },
  {
   "cell_type": "code",
   "execution_count": 4,
   "metadata": {},
   "outputs": [
    {
     "name": "stdout",
     "output_type": "stream",
     "text": [
      "(1, 1)\n",
      "(1, 3)\n",
      "(602, 3)\n",
      "(193, 3)\n",
      "(191, 3)\n",
      "(213, 3)\n",
      "(7, 2)\n",
      "(9, 2)\n",
      "(12, 2)\n",
      "(2, 2)\n"
     ]
    }
   ],
   "source": [
    "# Check headers of each table\n",
    "for df in df_list: print(df.shape)"
   ]
  },
  {
   "cell_type": "markdown",
   "metadata": {},
   "source": [
    "It seems that pandas has found many more tables that we could see. The ones that are of interest to us are probably the 3rd, 4th and 5th. But that are the others? Let's look at the them."
   ]
  },
  {
   "cell_type": "code",
   "execution_count": 5,
   "metadata": {},
   "outputs": [
    {
     "data": {
      "text/html": [
       "<div>\n",
       "<style scoped>\n",
       "    .dataframe tbody tr th:only-of-type {\n",
       "        vertical-align: middle;\n",
       "    }\n",
       "\n",
       "    .dataframe tbody tr th {\n",
       "        vertical-align: top;\n",
       "    }\n",
       "\n",
       "    .dataframe thead th {\n",
       "        text-align: right;\n",
       "    }\n",
       "</style>\n",
       "<table border=\"1\" class=\"dataframe\">\n",
       "  <thead>\n",
       "    <tr style=\"text-align: right;\">\n",
       "      <th></th>\n",
       "      <th>0</th>\n",
       "    </tr>\n",
       "  </thead>\n",
       "  <tbody>\n",
       "    <tr>\n",
       "      <th>0</th>\n",
       "      <td>Largest economies by nominal GDP in 2019[1]</td>\n",
       "    </tr>\n",
       "  </tbody>\n",
       "</table>\n",
       "</div>"
      ],
      "text/plain": [
       "                                             0\n",
       "0  Largest economies by nominal GDP in 2019[1]"
      ]
     },
     "execution_count": 5,
     "metadata": {},
     "output_type": "execute_result"
    }
   ],
   "source": [
    "# Check first\n",
    "df_list[0].head()"
   ]
  },
  {
   "cell_type": "code",
   "execution_count": 6,
   "metadata": {},
   "outputs": [
    {
     "data": {
      "text/html": [
       "<div>\n",
       "<style scoped>\n",
       "    .dataframe tbody tr th:only-of-type {\n",
       "        vertical-align: middle;\n",
       "    }\n",
       "\n",
       "    .dataframe tbody tr th {\n",
       "        vertical-align: top;\n",
       "    }\n",
       "\n",
       "    .dataframe thead th {\n",
       "        text-align: right;\n",
       "    }\n",
       "</style>\n",
       "<table border=\"1\" class=\"dataframe\">\n",
       "  <thead>\n",
       "    <tr style=\"text-align: right;\">\n",
       "      <th></th>\n",
       "      <th>0</th>\n",
       "      <th>1</th>\n",
       "      <th>2</th>\n",
       "    </tr>\n",
       "  </thead>\n",
       "  <tbody>\n",
       "    <tr>\n",
       "      <th>0</th>\n",
       "      <td>&gt;$20 trillion $10–$20 trillion $5–$10 trillion...</td>\n",
       "      <td>$750 billion–$1 trillion $500–$750 billion $25...</td>\n",
       "      <td>$50–$100 billion $25–$50 billion $5–$25 billio...</td>\n",
       "    </tr>\n",
       "  </tbody>\n",
       "</table>\n",
       "</div>"
      ],
      "text/plain": [
       "                                                   0  \\\n",
       "0  >$20 trillion $10–$20 trillion $5–$10 trillion...   \n",
       "\n",
       "                                                   1  \\\n",
       "0  $750 billion–$1 trillion $500–$750 billion $25...   \n",
       "\n",
       "                                                   2  \n",
       "0  $50–$100 billion $25–$50 billion $5–$25 billio...  "
      ]
     },
     "execution_count": 6,
     "metadata": {},
     "output_type": "execute_result"
    }
   ],
   "source": [
    "# Check second\n",
    "df_list[1].head()"
   ]
  },
  {
   "cell_type": "code",
   "execution_count": 11,
   "metadata": {},
   "outputs": [
    {
     "data": {
      "text/html": [
       "<div>\n",
       "<style scoped>\n",
       "    .dataframe tbody tr th:only-of-type {\n",
       "        vertical-align: middle;\n",
       "    }\n",
       "\n",
       "    .dataframe tbody tr th {\n",
       "        vertical-align: top;\n",
       "    }\n",
       "\n",
       "    .dataframe thead th {\n",
       "        text-align: right;\n",
       "    }\n",
       "</style>\n",
       "<table border=\"1\" class=\"dataframe\">\n",
       "  <thead>\n",
       "    <tr style=\"text-align: right;\">\n",
       "      <th></th>\n",
       "      <th>0</th>\n",
       "      <th>1</th>\n",
       "      <th>2</th>\n",
       "    </tr>\n",
       "  </thead>\n",
       "  <tbody>\n",
       "    <tr>\n",
       "      <th>0</th>\n",
       "      <td>Per the International Monetary Fund (2019 esti...</td>\n",
       "      <td>Per the World Bank (2018)[20]</td>\n",
       "      <td>Per the United Nations (2017)[21][22]</td>\n",
       "    </tr>\n",
       "    <tr>\n",
       "      <th>1</th>\n",
       "      <td>Rank Country/Territory GDP(US$million)  World[...</td>\n",
       "      <td>Rank Country/Territory GDP(US$million)  World ...</td>\n",
       "      <td>Rank Country/Territory GDP(US$million)  World[...</td>\n",
       "    </tr>\n",
       "    <tr>\n",
       "      <th>2</th>\n",
       "      <td>Rank</td>\n",
       "      <td>Country/Territory</td>\n",
       "      <td>GDP(US$million)</td>\n",
       "    </tr>\n",
       "    <tr>\n",
       "      <th>3</th>\n",
       "      <td>NaN</td>\n",
       "      <td>World[19]</td>\n",
       "      <td>87265226</td>\n",
       "    </tr>\n",
       "    <tr>\n",
       "      <th>4</th>\n",
       "      <td>1</td>\n",
       "      <td>United States</td>\n",
       "      <td>21439453</td>\n",
       "    </tr>\n",
       "  </tbody>\n",
       "</table>\n",
       "</div>"
      ],
      "text/plain": [
       "                                                   0  \\\n",
       "0  Per the International Monetary Fund (2019 esti...   \n",
       "1  Rank Country/Territory GDP(US$million)  World[...   \n",
       "2                                               Rank   \n",
       "3                                                NaN   \n",
       "4                                                  1   \n",
       "\n",
       "                                                   1  \\\n",
       "0                      Per the World Bank (2018)[20]   \n",
       "1  Rank Country/Territory GDP(US$million)  World ...   \n",
       "2                                  Country/Territory   \n",
       "3                                          World[19]   \n",
       "4                                      United States   \n",
       "\n",
       "                                                   2  \n",
       "0              Per the United Nations (2017)[21][22]  \n",
       "1  Rank Country/Territory GDP(US$million)  World[...  \n",
       "2                                    GDP(US$million)  \n",
       "3                                           87265226  \n",
       "4                                           21439453  "
      ]
     },
     "execution_count": 11,
     "metadata": {},
     "output_type": "execute_result"
    }
   ],
   "source": [
    "# Check third\n",
    "df_list[2].head()"
   ]
  },
  {
   "cell_type": "markdown",
   "metadata": {},
   "source": [
    "Apparently, the first two are simply picture captions while the third is some sort of larger table that encompasses the other three."
   ]
  },
  {
   "cell_type": "code",
   "execution_count": 12,
   "metadata": {
    "scrolled": true
   },
   "outputs": [
    {
     "data": {
      "text/html": [
       "<div>\n",
       "<style scoped>\n",
       "    .dataframe tbody tr th:only-of-type {\n",
       "        vertical-align: middle;\n",
       "    }\n",
       "\n",
       "    .dataframe tbody tr th {\n",
       "        vertical-align: top;\n",
       "    }\n",
       "\n",
       "    .dataframe thead th {\n",
       "        text-align: right;\n",
       "    }\n",
       "</style>\n",
       "<table border=\"1\" class=\"dataframe\">\n",
       "  <thead>\n",
       "    <tr style=\"text-align: right;\">\n",
       "      <th></th>\n",
       "      <th>Rank</th>\n",
       "      <th>Country/Territory</th>\n",
       "      <th>GDP(US$million)</th>\n",
       "    </tr>\n",
       "  </thead>\n",
       "  <tbody>\n",
       "    <tr>\n",
       "      <th>0</th>\n",
       "      <td>NaN</td>\n",
       "      <td>World[19]</td>\n",
       "      <td>87265226</td>\n",
       "    </tr>\n",
       "    <tr>\n",
       "      <th>1</th>\n",
       "      <td>1</td>\n",
       "      <td>United States</td>\n",
       "      <td>21439453</td>\n",
       "    </tr>\n",
       "    <tr>\n",
       "      <th>2</th>\n",
       "      <td>—</td>\n",
       "      <td>European Union[23][n 1]</td>\n",
       "      <td>18705132</td>\n",
       "    </tr>\n",
       "    <tr>\n",
       "      <th>3</th>\n",
       "      <td>2</td>\n",
       "      <td>China[n 2]</td>\n",
       "      <td>14140163</td>\n",
       "    </tr>\n",
       "    <tr>\n",
       "      <th>4</th>\n",
       "      <td>3</td>\n",
       "      <td>Japan</td>\n",
       "      <td>5154475</td>\n",
       "    </tr>\n",
       "  </tbody>\n",
       "</table>\n",
       "</div>"
      ],
      "text/plain": [
       "  Rank        Country/Territory GDP(US$million)\n",
       "0  NaN                World[19]        87265226\n",
       "1    1            United States        21439453\n",
       "2    —  European Union[23][n 1]        18705132\n",
       "3    2               China[n 2]        14140163\n",
       "4    3                    Japan         5154475"
      ]
     },
     "execution_count": 12,
     "metadata": {},
     "output_type": "execute_result"
    }
   ],
   "source": [
    "# Check fourth\n",
    "df_list[3].head()"
   ]
  },
  {
   "cell_type": "markdown",
   "metadata": {},
   "source": [
    "This is clearly what we were looking for. A part from the footnotes, the table is already clean and organized.\n",
    "\n",
    "If we knew the name of the table, we could directly retrieve it. However, we will see more about it in the next lecture."
   ]
  },
  {
   "cell_type": "markdown",
   "metadata": {},
   "source": [
    "## 11.1.2 Libraries\n",
    "\n",
    "Sometimes, there are libraries that are already written down to do the scraping for you. Each one is tailored for a specific website and they are usually userwritten and prone to bugs and errors. However, they are often efficient and save you the time to worry about getting around some website-specific issues.\n",
    "\n",
    "One example is the `pytrends` library for scraping Google Trends. Let's first install it\n",
    "\n",
    "```python\n",
    "pip3 install pytrends\n",
    "```\n",
    "\n",
    "Let's see how it works. Imagine we want to do the following search:\n",
    "- words \"python\", \"matlab\", \"stata\"\n",
    "- the the second half of in 2019\n",
    "- daily\n",
    "- in the US\n",
    "\n",
    "We can get more details on how pytrends works [here](https://github.com/GeneralMills/pytrends#historical-hourly-interest). The important thing to know is that if you query a time period of more than 200 days, Google will give you weekly results, instead of daily."
   ]
  },
  {
   "cell_type": "code",
   "execution_count": 14,
   "metadata": {},
   "outputs": [
    {
     "data": {
      "image/png": "[encoded data removed]",
      "text/plain": [
       "<Figure size 432x288 with 1 Axes>"
      ]
     },
     "metadata": {
      "needs_background": "light"
     },
     "output_type": "display_data"
    }
   ],
   "source": [
    "# Pytrends search\n",
    "from pytrends.request import TrendReq\n",
    "\n",
    "# Set parameters\n",
    "words = ['python', 'matlab', 'stata']\n",
    "timeframe = '2019-07-01 2019-12-31'\n",
    "country = 'US'\n",
    "\n",
    "# Get data\n",
    "pytrend = TrendReq()\n",
    "pytrend.build_payload(kw_list=words, timeframe=timeframe, geo=country)\n",
    "df_trends = pytrend.interest_over_time()\n",
    "\n",
    "# Plot\n",
    "trends_plot = df_trends.plot.line()"
   ]
  },
  {
   "cell_type": "markdown",
   "metadata": {},
   "source": [
    "Apparently people don't code during the weekend...."
   ]
  },
  {
   "cell_type": "markdown",
   "metadata": {},
   "source": [
    "## 11.1.3 APIs\n",
    "\n",
    "From Wikipedia \n",
    "\n",
    "> An application programming interface (API) is an interface or communication protocol between different parts of a computer program intended to simplify the implementation and maintenance of software.\n",
    "\n",
    "In practice, it means that the are some webpages that are structured not to be user-readable but to be computer-readable. Let's see one example."
   ]
  },
  {
   "cell_type": "markdown",
   "metadata": {},
   "source": [
    "Google provides many APIs for its services. However, they now all need identification, which means that you have to log in into your Google account and request an API key from there. This allows Google to monitor your behavior since the number of API requests is limited and beyond a certain treshold, one need to pay (a lot).\n",
    "\n",
    "There are however some free APIs. One \n",
    "\n",
    "Let's have a look at one of these: zippopotam. Zippopotam lets you retrieve location information from a zip code in the US. Other countries are supported as well. "
   ]
  },
  {
   "cell_type": "code",
   "execution_count": 15,
   "metadata": {},
   "outputs": [
    {
     "data": {
      "text/plain": [
       "{'post code': '90210',\n",
       " 'country': 'United States',\n",
       " 'country abbreviation': 'US',\n",
       " 'places': [{'place name': 'Beverly Hills',\n",
       "   'longitude': '-118.4065',\n",
       "   'state': 'California',\n",
       "   'state abbreviation': 'CA',\n",
       "   'latitude': '34.0901'}]}"
      ]
     },
     "execution_count": 15,
     "metadata": {},
     "output_type": "execute_result"
    }
   ],
   "source": [
    "# Let's search the department locaiton\n",
    "import requests\n",
    "\n",
    "zipcode = '90210'\n",
    "url = 'https://api.zippopotam.us/us/'+zipcode\n",
    "\n",
    "response = requests.get(url)\n",
    "data = response.json()\n",
    "data"
   ]
  },
  {
   "cell_type": "markdown",
   "metadata": {},
   "source": [
    "Data is in JSON (JavaScript Object Notation) format which is basically a nested dictionary-list format. Indeed, we see that in our case, data is a dictionary where the last elements is a list with one element - another dictionary."
   ]
  },
  {
   "cell_type": "code",
   "execution_count": 16,
   "metadata": {},
   "outputs": [
    {
     "name": "stdout",
     "output_type": "stream",
     "text": [
      "<class 'str'>\n",
      "<class 'str'>\n",
      "<class 'str'>\n",
      "<class 'list'>\n",
      "1\n",
      "<class 'dict'>\n"
     ]
    }
   ],
   "source": [
    "# Check type of value\n",
    "for d in data.values():\n",
    "    print(type(d))\n",
    "    \n",
    "# Check list length\n",
    "print(len(data['places']))\n",
    "\n",
    "# Check type of content of list\n",
    "print(type(data['places'][0]))"
   ]
  },
  {
   "cell_type": "markdown",
   "metadata": {},
   "source": [
    "The part that could be interesting to us is contained in the `places` category. We can easily extract it and transform it into a dataframe."
   ]
  },
  {
   "cell_type": "code",
   "execution_count": 17,
   "metadata": {},
   "outputs": [
    {
     "data": {
      "text/html": [
       "<div>\n",
       "<style scoped>\n",
       "    .dataframe tbody tr th:only-of-type {\n",
       "        vertical-align: middle;\n",
       "    }\n",
       "\n",
       "    .dataframe tbody tr th {\n",
       "        vertical-align: top;\n",
       "    }\n",
       "\n",
       "    .dataframe thead th {\n",
       "        text-align: right;\n",
       "    }\n",
       "</style>\n",
       "<table border=\"1\" class=\"dataframe\">\n",
       "  <thead>\n",
       "    <tr style=\"text-align: right;\">\n",
       "      <th></th>\n",
       "      <th>place name</th>\n",
       "      <th>longitude</th>\n",
       "      <th>state</th>\n",
       "      <th>state abbreviation</th>\n",
       "      <th>latitude</th>\n",
       "      <th>zipcode</th>\n",
       "    </tr>\n",
       "  </thead>\n",
       "  <tbody>\n",
       "    <tr>\n",
       "      <th>0</th>\n",
       "      <td>Beverly Hills</td>\n",
       "      <td>-118.4065</td>\n",
       "      <td>California</td>\n",
       "      <td>CA</td>\n",
       "      <td>34.0901</td>\n",
       "      <td>90210</td>\n",
       "    </tr>\n",
       "  </tbody>\n",
       "</table>\n",
       "</div>"
      ],
      "text/plain": [
       "      place name  longitude       state state abbreviation latitude zipcode\n",
       "0  Beverly Hills  -118.4065  California                 CA  34.0901   90210"
      ]
     },
     "execution_count": 17,
     "metadata": {},
     "output_type": "execute_result"
    }
   ],
   "source": [
    "import pandas as pd \n",
    "\n",
    "# Add zipcode to data\n",
    "data['places'][0]['zipcode'] = zipcode\n",
    "\n",
    "# Export data\n",
    "df = pd.DataFrame(data['places'])\n",
    "df"
   ]
  },
  {
   "cell_type": "markdown",
   "metadata": {},
   "source": [
    "## Bibliography\n",
    "\n",
    "- Mitchell, R. (2018). *Web scraping with Python: Collecting more data from the modern web*. O'Reilly Media, Inc.\n",
    "- Vanden Broucke, S., & Baesens, B. (2018). *Practical Web scraping for data science*. New York, NY: Apress."
   ]
  }
 ],
 "metadata": {
  "kernelspec": {
   "display_name": "Python 3",
   "language": "python",
   "name": "python3"
  },
  "language_info": {
   "codemirror_mode": {
    "name": "ipython",
    "version": 3
   },
   "file_extension": ".py",
   "mimetype": "text/x-python",
   "name": "python",
   "nbconvert_exporter": "python",
   "pygments_lexer": "ipython3",
   "version": "3.7.5"
  }
 },
 "nbformat": 4,
 "nbformat_minor": 4
}
