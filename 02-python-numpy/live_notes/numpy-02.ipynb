{
 "cells": [
  {
   "cell_type": "code",
   "execution_count": null,
   "source": [],
   "outputs": [],
   "metadata": {}
  },
  {
   "cell_type": "markdown",
   "source": [
    "# Doing OLS our own way"
   ],
   "metadata": {}
  },
  {
   "cell_type": "code",
   "execution_count": 1,
   "source": [
    "import numpy as np"
   ],
   "outputs": [],
   "metadata": {}
  },
  {
   "cell_type": "markdown",
   "source": [
    "## Simulate some data"
   ],
   "metadata": {}
  },
  {
   "cell_type": "code",
   "execution_count": 2,
   "source": [
    "data_properties = {\n",
    "    'n_obs': 10000,\n",
    "    'beta': np.array([0.25, 0.75, -2.25]),\n",
    "    'sigma': 5\n",
    "}"
   ],
   "outputs": [],
   "metadata": {}
  },
  {
   "cell_type": "code",
   "execution_count": 25,
   "source": [],
   "outputs": [],
   "metadata": {}
  },
  {
   "cell_type": "code",
   "execution_count": 31,
   "source": [
    "def gen_data(dgp):\n",
    "\n",
    "    np.random.seed(1234567890)\n",
    "    \n",
    "    n_obs = dgp['n_obs']\n",
    "    beta  = dgp['beta']\n",
    "    sigma = dgp['sigma']\n",
    "    n_x   = beta.shape[0] - 1\n",
    "\n",
    "    # reshape beta so we dont f* up\n",
    "    beta = beta.reshape(beta.shape[0], 1)\n",
    "    # \n",
    "    print('n of xs:', n_x)\n",
    "\n",
    "    # make explanatory vars\n",
    "    iota = np.ones(n_obs).reshape(n_obs,1)\n",
    "    expl_var = np.random.random(size = (n_obs, n_x))\n",
    "\n",
    "    X = np.column_stack(tup = (iota, expl_var))\n",
    "\n",
    "    u = np.random.normal(loc = 0, scale = sigma, size = n_obs).reshape(n_obs, 1)\n",
    "\n",
    "    # generate y\n",
    "    y = X @ beta + u\n",
    "\n",
    "    X_no_cons = X[:, 1:]\n",
    "\n",
    "    return (y, X_no_cons)"
   ],
   "outputs": [],
   "metadata": {}
  },
  {
   "cell_type": "code",
   "execution_count": 34,
   "source": [
    "y, X = gen_data(dgp = data_properties)"
   ],
   "outputs": [
    {
     "output_type": "stream",
     "name": "stdout",
     "text": [
      "n of xs: 2\n"
     ]
    }
   ],
   "metadata": {}
  },
  {
   "cell_type": "code",
   "execution_count": 15,
   "source": [
    "y.shape"
   ],
   "outputs": [
    {
     "output_type": "execute_result",
     "data": {
      "text/plain": [
       "(10000, 1)"
      ]
     },
     "metadata": {},
     "execution_count": 15
    }
   ],
   "metadata": {}
  },
  {
   "cell_type": "code",
   "execution_count": 16,
   "source": [
    "X.shape"
   ],
   "outputs": [
    {
     "output_type": "execute_result",
     "data": {
      "text/plain": [
       "(10000, 2)"
      ]
     },
     "metadata": {},
     "execution_count": 16
    }
   ],
   "metadata": {}
  },
  {
   "cell_type": "markdown",
   "source": [
    "## Estimate OLS coefficients"
   ],
   "metadata": {}
  },
  {
   "cell_type": "code",
   "execution_count": 22,
   "source": [
    "def compute_ols(expl_var, dep_var, add_constant = True):\n",
    "\n",
    "    # type check stuff\n",
    "    assert type(expl_var) == np.ndarray, \"Please give me a numpy array\"\n",
    "    assert type(dep_var)  == np.ndarray\n",
    "    assert type(add_constant) == bool\n",
    "\n",
    "    assert expl_var.shape[0] == dep_var.shape[0]\n",
    "    n_obs = expl_var.shape[0]\n",
    "\n",
    "    # add a constant?\n",
    "    if add_constant == True:\n",
    "        iota = np.ones(n_obs).reshape(n_obs, 1)\n",
    "        expl_var = np.column_stack(tup = (iota, expl_var)) \n",
    "\n",
    "    XX = expl_var.T.dot(expl_var)\n",
    "    Xy = expl_var.T.dot(dep_var)\n",
    "    XX_inv = np.linalg.inv(XX)\n",
    "\n",
    "    beta_hat = XX_inv.dot(Xy)\n",
    "\n",
    "    assert beta_hat.shape[0] == expl_var.shape[1]\n",
    "\n",
    "    return beta_hat"
   ],
   "outputs": [],
   "metadata": {}
  },
  {
   "cell_type": "code",
   "execution_count": 35,
   "source": [
    "compute_ols(dep_var = y, expl_var = X, add_constant= True)"
   ],
   "outputs": [
    {
     "output_type": "execute_result",
     "data": {
      "text/plain": [
       "array([[ 0.28330314],\n",
       "       [ 0.78398326],\n",
       "       [-2.31251796]])"
      ]
     },
     "metadata": {},
     "execution_count": 35
    }
   ],
   "metadata": {}
  },
  {
   "cell_type": "code",
   "execution_count": 41,
   "source": [
    "def get_residuals(expl_var, dep_var, add_constant = True):\n",
    "    # do asserting\n",
    "\n",
    "    if add_constant == True:\n",
    "        iota = np.ones(dep_var.shape[0]).reshape(dep_var.shape[0])\n",
    "        expl_var = np.column_stack(tup = (iota, expl_var))\n",
    "    # run ols\n",
    "    beta_hat = compute_ols(dep_var = dep_var, expl_var = expl_var, add_constant = False)\n",
    "    u_hat = dep_var - expl_var.dot(beta_hat)\n",
    "\n",
    "    return u_hat"
   ],
   "outputs": [],
   "metadata": {}
  },
  {
   "cell_type": "code",
   "execution_count": 42,
   "source": [
    "get_residuals(expl_var= X, dep_var= y)"
   ],
   "outputs": [
    {
     "output_type": "execute_result",
     "data": {
      "text/plain": [
       "array([[  1.31826161],\n",
       "       [-12.26057197],\n",
       "       [ -2.61458708],\n",
       "       ...,\n",
       "       [ 12.0708953 ],\n",
       "       [  2.79529088],\n",
       "       [ -1.69472898]])"
      ]
     },
     "metadata": {},
     "execution_count": 42
    }
   ],
   "metadata": {}
  },
  {
   "cell_type": "code",
   "execution_count": 51,
   "source": [
    "def compute_sigma2(expl_var, dep_var, add_constant = True):\n",
    "\n",
    "    u = get_residuals(expl_var= expl_var, dep_var= dep_var)\n",
    "    #print(u.shape)\n",
    "    uu = u.T.dot(u)\n",
    "    df = expl_var.shape[0] - expl_var.shape[1]\n",
    "\n",
    "    sigma2 = uu / df\n",
    "    return sigma2\n"
   ],
   "outputs": [],
   "metadata": {}
  },
  {
   "cell_type": "code",
   "execution_count": 52,
   "source": [
    "compute_sigma2(expl_var=X, dep_var= y)"
   ],
   "outputs": [
    {
     "output_type": "execute_result",
     "data": {
      "text/plain": [
       "array([[25.5014485]])"
      ]
     },
     "metadata": {},
     "execution_count": 52
    }
   ],
   "metadata": {}
  },
  {
   "cell_type": "code",
   "execution_count": 61,
   "source": [
    "def compute_vcov(expl_var, dep_var, constant = True):\n",
    "    n_obs = expl_var.shape[0]\n",
    "    \n",
    "    sigma2 = compute_sigma2(expl_var = expl_var, dep_var = dep_var)\n",
    "    #print(sigma2)\n",
    "\n",
    "    if constant == True:\n",
    "        iota = np.ones(n_obs).reshape(n_obs, 1)\n",
    "        expl_var = np.column_stack(tup = (iota, expl_var))\n",
    "    \n",
    "    XX = expl_var.T.dot(expl_var)\n",
    "    XX_inv = np.linalg.inv(XX)\n",
    "\n",
    "    vcov_mat = sigma2 * XX_inv\n",
    "    std_errors = np.sqrt(np.diag(vcov_mat))\n",
    "\n",
    "\n",
    "    return std_errors, vcov_mat"
   ],
   "outputs": [],
   "metadata": {}
  },
  {
   "cell_type": "code",
   "execution_count": null,
   "source": [],
   "outputs": [],
   "metadata": {}
  },
  {
   "cell_type": "code",
   "execution_count": 60,
   "source": [
    "my_errors, my_vcov = compute_vcov(expl_var=X, dep_var = y)"
   ],
   "outputs": [
    {
     "output_type": "stream",
     "name": "stdout",
     "text": [
      "[[25.5014485]]\n"
     ]
    }
   ],
   "metadata": {}
  },
  {
   "cell_type": "code",
   "execution_count": 62,
   "source": [
    "my_errors"
   ],
   "outputs": [
    {
     "output_type": "execute_result",
     "data": {
      "text/plain": [
       "array([0.13476729, 0.17435964, 0.17513707])"
      ]
     },
     "metadata": {},
     "execution_count": 62
    }
   ],
   "metadata": {}
  }
 ],
 "metadata": {
  "orig_nbformat": 4,
  "language_info": {
   "name": "python",
   "version": "3.7.6",
   "mimetype": "text/x-python",
   "codemirror_mode": {
    "name": "ipython",
    "version": 3
   },
   "pygments_lexer": "ipython3",
   "nbconvert_exporter": "python",
   "file_extension": ".py"
  },
  "kernelspec": {
   "name": "python3",
   "display_name": "Python 3.7.6 64-bit ('base': conda)"
  },
  "interpreter": {
   "hash": "bf5f67538785b35c4702aeb67651fc986043af768008a1d9e9d94d6c2205c8f1"
  }
 },
 "nbformat": 4,
 "nbformat_minor": 2
}