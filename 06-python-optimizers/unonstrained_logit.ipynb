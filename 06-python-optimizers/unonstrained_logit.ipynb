{
 "cells": [
  {
   "cell_type": "markdown",
   "source": [],
   "metadata": {}
  },
  {
   "cell_type": "code",
   "execution_count": 1,
   "source": [
    "import numpy as np"
   ],
   "outputs": [],
   "metadata": {}
  },
  {
   "cell_type": "code",
   "execution_count": 2,
   "source": [
    "data_properties = {\n",
    "    'n_obs': 10000, \n",
    "    'beta': np.array([0.25, 0.75])\n",
    "}"
   ],
   "outputs": [],
   "metadata": {}
  },
  {
   "cell_type": "code",
   "execution_count": 3,
   "source": [
    "def gen_data(dgp):\n",
    "\n",
    "    np.random.seed(1234567890)\n",
    "\n",
    "    # unpack dgp \n",
    "    n_obs = dgp['n_obs']\n",
    "    beta  = dgp['beta']\n",
    "\n",
    "    # Create X's \n",
    "    iota = np.ones(n_obs).reshape(n_obs,1)\n",
    "    X    = np.random.random(size = [n_obs, 1])\n",
    "\n",
    "    X = np.column_stack(tup = (iota, X))\n",
    "\n",
    "    # Create epsilon\n",
    "    epsilon = np.random.gumbel(size = [n_obs, 2])\n",
    "\n",
    "    # Create utilities\n",
    "    u0 = epsilon[:,0]\n",
    "    u1 = X @ beta + epsilon[:, 1]\n",
    "\n",
    "    u = np.column_stack(tup = (u0, u1))\n",
    "\n",
    "    choice = np.argmax(u, axis = 1).reshape(n_obs, 1)\n",
    "\n",
    "    return choice, X"
   ],
   "outputs": [],
   "metadata": {}
  },
  {
   "cell_type": "code",
   "execution_count": 4,
   "source": [
    "y, X = gen_data(data_properties)"
   ],
   "outputs": [],
   "metadata": {}
  },
  {
   "cell_type": "code",
   "execution_count": 5,
   "source": [
    "y"
   ],
   "outputs": [
    {
     "output_type": "execute_result",
     "data": {
      "text/plain": [
       "array([[1],\n",
       "       [0],\n",
       "       [1],\n",
       "       ...,\n",
       "       [1],\n",
       "       [1],\n",
       "       [1]])"
      ]
     },
     "metadata": {},
     "execution_count": 5
    }
   ],
   "metadata": {}
  },
  {
   "cell_type": "code",
   "execution_count": 6,
   "source": [
    "X"
   ],
   "outputs": [
    {
     "output_type": "execute_result",
     "data": {
      "text/plain": [
       "array([[1.        , 0.61879477],\n",
       "       [1.        , 0.59162363],\n",
       "       [1.        , 0.88868359],\n",
       "       ...,\n",
       "       [1.        , 0.58973078],\n",
       "       [1.        , 0.14467233],\n",
       "       [1.        , 0.72604559]])"
      ]
     },
     "metadata": {},
     "execution_count": 6
    }
   ],
   "metadata": {}
  },
  {
   "cell_type": "code",
   "execution_count": 7,
   "source": [
    "from scipy.stats import logistic"
   ],
   "outputs": [],
   "metadata": {}
  },
  {
   "cell_type": "code",
   "execution_count": 8,
   "source": [
    "def choice_prob(X, beta_guess):\n",
    "\n",
    "    choice_pr = logistic.cdf(X @ beta_guess)\n",
    "\n",
    "    return choice_pr"
   ],
   "outputs": [],
   "metadata": {}
  },
  {
   "cell_type": "code",
   "execution_count": 9,
   "source": [
    "def log_like_i(beta_guess, y, X):\n",
    "\n",
    "    beta_guess = beta_guess.reshape(X.shape[1] , 1)\n",
    "\n",
    "    choice_pr = choice_prob(X, beta_guess)\n",
    "\n",
    "    ll_i = np.log( (y == 1) * choice_pr + (y == 0) * (1 - choice_pr) )\n",
    "\n",
    "    return ll_i"
   ],
   "outputs": [],
   "metadata": {}
  },
  {
   "cell_type": "code",
   "execution_count": 10,
   "source": [
    "# my_guess = np.array([1,1]).reshape(2,1)\n",
    "# value = log_like_i(beta_guess = np.array([1,1]), y= y , X = X)"
   ],
   "outputs": [],
   "metadata": {}
  },
  {
   "cell_type": "code",
   "execution_count": 11,
   "source": [
    "def log_like(beta_guess, y, X):\n",
    "\n",
    "    beta_guess = beta_guess.reshape(X.shape[1] , 1) \n",
    "\n",
    "    ll_i = log_like_i(beta_guess, y, X)\n",
    "\n",
    "    return - ll_i.sum()"
   ],
   "outputs": [],
   "metadata": {}
  },
  {
   "cell_type": "code",
   "execution_count": 12,
   "source": [
    "log_like(beta_guess = np.array([1,2]), y= y , X = X)"
   ],
   "outputs": [
    {
     "output_type": "execute_result",
     "data": {
      "text/plain": [
       "7981.456841937576"
      ]
     },
     "metadata": {},
     "execution_count": 12
    }
   ],
   "metadata": {}
  },
  {
   "cell_type": "code",
   "execution_count": 13,
   "source": [
    "from scipy.optimize import minimize"
   ],
   "outputs": [],
   "metadata": {}
  },
  {
   "cell_type": "code",
   "execution_count": 32,
   "source": [
    "my_start = np.array([0.5, 0.5])\n",
    "\n",
    "res = minimize(log_like, \n",
    "         my_start, \n",
    "         args = (y, X), \n",
    "         method = 'SLSQP', # BFGS or L-BFGS-B without providing jacobian         tol = 1e-12\n",
    ")"
   ],
   "outputs": [],
   "metadata": {}
  },
  {
   "cell_type": "code",
   "execution_count": 33,
   "source": [
    "print(res)"
   ],
   "outputs": [
    {
     "output_type": "stream",
     "name": "stdout",
     "text": [
      "     fun: 6365.154246768508\n",
      "     jac: array([-0.00543213, -0.00372314])\n",
      " message: 'Optimization terminated successfully.'\n",
      "    nfev: 26\n",
      "     nit: 5\n",
      "    njev: 5\n",
      "  status: 0\n",
      " success: True\n",
      "       x: array([0.32801964, 0.68705033])\n"
     ]
    }
   ],
   "metadata": {}
  },
  {
   "cell_type": "code",
   "execution_count": 16,
   "source": [
    "import scipy \n",
    "\n",
    "scipy.__version__"
   ],
   "outputs": [
    {
     "output_type": "execute_result",
     "data": {
      "text/plain": [
       "'1.4.1'"
      ]
     },
     "metadata": {},
     "execution_count": 16
    }
   ],
   "metadata": {}
  },
  {
   "cell_type": "code",
   "execution_count": 17,
   "source": [
    "beta_hat = res.x\n",
    "print(beta_hat)"
   ],
   "outputs": [
    {
     "output_type": "stream",
     "name": "stdout",
     "text": [
      "[0.3280191  0.68705659]\n"
     ]
    }
   ],
   "metadata": {}
  },
  {
   "cell_type": "code",
   "execution_count": 18,
   "source": [
    "np.sqrt(np.diag(res.hess_inv))"
   ],
   "outputs": [
    {
     "output_type": "execute_result",
     "data": {
      "text/plain": [
       "array([0.02426733, 0.02024752])"
      ]
     },
     "metadata": {},
     "execution_count": 18
    }
   ],
   "metadata": {}
  }
 ],
 "metadata": {
  "orig_nbformat": 4,
  "language_info": {
   "name": "python",
   "version": "3.7.6",
   "mimetype": "text/x-python",
   "codemirror_mode": {
    "name": "ipython",
    "version": 3
   },
   "pygments_lexer": "ipython3",
   "nbconvert_exporter": "python",
   "file_extension": ".py"
  },
  "kernelspec": {
   "name": "python3",
   "display_name": "Python 3.7.6 64-bit ('base': conda)"
  },
  "interpreter": {
   "hash": "bf5f67538785b35c4702aeb67651fc986043af768008a1d9e9d94d6c2205c8f1"
  }
 },
 "nbformat": 4,
 "nbformat_minor": 2
}