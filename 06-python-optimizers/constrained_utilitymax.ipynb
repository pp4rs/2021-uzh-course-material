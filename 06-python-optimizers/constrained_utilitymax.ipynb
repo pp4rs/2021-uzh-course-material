{
 "cells": [
  {
   "cell_type": "code",
   "execution_count": 1,
   "source": [
    "from scipy.optimize import minimize"
   ],
   "outputs": [],
   "metadata": {}
  },
  {
   "cell_type": "code",
   "execution_count": 2,
   "source": [
    "import numpy as np"
   ],
   "outputs": [],
   "metadata": {}
  },
  {
   "cell_type": "code",
   "execution_count": 3,
   "source": [
    "utility_params = {\n",
    "    'alpha': 0.6, \n",
    "    'beta': 0.4\n",
    "}"
   ],
   "outputs": [],
   "metadata": {}
  },
  {
   "cell_type": "code",
   "execution_count": 4,
   "source": [
    "budget_params = {\n",
    "    'p1': 1, \n",
    "    'p2': 5, \n",
    "    'm' : 30\n",
    "}"
   ],
   "outputs": [],
   "metadata": {}
  },
  {
   "cell_type": "code",
   "execution_count": 18,
   "source": [
    "def budget_constraint(quantity, budget_dict):\n",
    "\n",
    "    price_1 = budget_dict['p1']\n",
    "    price_2 = budget_dict['p2']\n",
    "    income = budget_dict['m']\n",
    "\n",
    "    qty1 = quantity[0]\n",
    "    qty2 = quantity[1]\n",
    "\n",
    "    return income - (price_1 * qty1 + price_2 * qty2)"
   ],
   "outputs": [],
   "metadata": {}
  },
  {
   "cell_type": "code",
   "execution_count": 19,
   "source": [
    "def utility(quantity, utility_dict):\n",
    "\n",
    "    alpha = utility_dict['alpha'],\n",
    "    beta  = utility_dict['beta'] \n",
    "\n",
    "    qty1 = quantity[0]\n",
    "    qty2 = quantity[1]\n",
    "\n",
    "    utility = qty1 ** alpha * qty2 ** beta \n",
    "\n",
    "    return -utility  "
   ],
   "outputs": [],
   "metadata": {}
  },
  {
   "cell_type": "code",
   "execution_count": 7,
   "source": [
    "utility(np.array([1,2]), utility_dict = utility_params)"
   ],
   "outputs": [
    {
     "output_type": "execute_result",
     "data": {
      "text/plain": [
       "array([-1.31950791])"
      ]
     },
     "metadata": {},
     "execution_count": 7
    }
   ],
   "metadata": {}
  },
  {
   "cell_type": "code",
   "execution_count": 9,
   "source": [
    "budget_constraint(np.array([1,2]), budget_dict= budget_params)"
   ],
   "outputs": [
    {
     "output_type": "execute_result",
     "data": {
      "text/plain": [
       "19"
      ]
     },
     "metadata": {},
     "execution_count": 9
    }
   ],
   "metadata": {}
  },
  {
   "cell_type": "code",
   "execution_count": 22,
   "source": [
    "cons = (\n",
    "    {\n",
    "        'type': 'eq',\n",
    "        'fun': budget_constraint, \n",
    "        'args': (budget_params,)\n",
    "}\n",
    ")"
   ],
   "outputs": [],
   "metadata": {}
  },
  {
   "cell_type": "code",
   "execution_count": 14,
   "source": [
    "type(cons)"
   ],
   "outputs": [
    {
     "output_type": "execute_result",
     "data": {
      "text/plain": [
       "dict"
      ]
     },
     "metadata": {},
     "execution_count": 14
    }
   ],
   "metadata": {}
  },
  {
   "cell_type": "code",
   "execution_count": 23,
   "source": [
    "starting_vals = np.array([1,1])"
   ],
   "outputs": [],
   "metadata": {}
  },
  {
   "cell_type": "code",
   "execution_count": 25,
   "source": [
    "minimize(utility, \n",
    "         starting_vals, \n",
    "         args = (utility_params,),\n",
    "         tol = 1e-10, \n",
    "         constraints = cons\n",
    ")"
   ],
   "outputs": [
    {
     "output_type": "execute_result",
     "data": {
      "text/plain": [
       "     fun: -8.039850991947159\n",
       "     jac: array([-0.267995  , -1.33997476])\n",
       " message: 'Optimization terminated successfully.'\n",
       "    nfev: 36\n",
       "     nit: 9\n",
       "    njev: 9\n",
       "  status: 0\n",
       " success: True\n",
       "       x: array([17.99999617,  2.40000077])"
      ]
     },
     "metadata": {},
     "execution_count": 25
    }
   ],
   "metadata": {}
  },
  {
   "cell_type": "code",
   "execution_count": 28,
   "source": [
    "type( ('my_string',))"
   ],
   "outputs": [
    {
     "output_type": "execute_result",
     "data": {
      "text/plain": [
       "tuple"
      ]
     },
     "metadata": {},
     "execution_count": 28
    }
   ],
   "metadata": {}
  }
 ],
 "metadata": {
  "orig_nbformat": 4,
  "language_info": {
   "name": "python",
   "version": "3.7.6",
   "mimetype": "text/x-python",
   "codemirror_mode": {
    "name": "ipython",
    "version": 3
   },
   "pygments_lexer": "ipython3",
   "nbconvert_exporter": "python",
   "file_extension": ".py"
  },
  "kernelspec": {
   "name": "python3",
   "display_name": "Python 3.7.6 64-bit ('base': conda)"
  },
  "interpreter": {
   "hash": "bf5f67538785b35c4702aeb67651fc986043af768008a1d9e9d94d6c2205c8f1"
  }
 },
 "nbformat": 4,
 "nbformat_minor": 2
}